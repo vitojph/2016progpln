{
 "cells": [
  {
   "cell_type": "markdown",
   "metadata": {},
   "source": [
    "# Interactuando con Telegram\n",
    "\n",
    "\n",
    "## Introducción\n",
    "\n",
    "En este cuaderno vamos a crear un [*bot* de Telegram](https://core.telegram.org/bots) (un sencillo [programa](https://es.wikipedia.org/wiki/Bot) que interactúa con otros usuarios y se activa a través de mensajes) que, en la medida de lo posible, muestre ciertas capacidades lingüísticas. \n",
    "\n",
    "En definitiva, vamos a combinar una API para gestionar Telegram con las APIs de procesamiento lingüístico que hemos visto durante el curso.\n",
    "\n",
    "\n",
    "## Creando un [*bot* de Telegram](https://core.telegram.org/bots)\n",
    "\n",
    "Como en el caso del bot de Twitter, para desarrollar cualquier aplicación automática en Telegram necesitamos solicitar unas credenciales. Sigue los pasos:\n",
    "\n",
    "1. Lo primero que tienes que hacer, si no lo has hecho ya, es instalar el cliente de [Telegram](https://telegram.org/) en tu móvil (tendrás que asociar tu cuenta a un número de teléfono). \n",
    "\n",
    "2. Una vez tengas una cuenta funcionando, entra en [la página de BotFather](https://telegram.me/botfather) y mándale un mensaje (*Send message*). Si te da problemas desde este ordenador (que probablemente es lo que pasará si no tienes un cliente de Telegram instalado), desde el navegador de tu móvil entra en la URL: https://telegram.me/botfather. Esta acción abrirá un hilo de conversación con @botfather. \n",
    "\n",
    "3. Solicita la creación de un nuevo bot con el comando `/newbot`. BotFather te pedirá que elijas un nombre para el bot y para el usuario del bot. Sigue las instrucciones. BotFather te proporcionará las credenciales del bot, un mensaje similar a:\n",
    "\n",
    "    *The token is a string along the lines of 110201543:AAHdqTcvCH1vGWJxfSeofSAs0K5PALDsaw that will be required to authorize the bot and send requests to the Bot API.*\n",
    "\n",
    "4. Toma nota del token de autenticación, lo necesitarás más adelante. Y, en principio, ya tienes todo lo que necesitas para crear tu *bot*, pero si necesitas algo más, revisa el resto de [funcionalidades (https://core.telegram.org/bots#botfather) de BotFather. \n",
    "\n",
    "Por mi cuenta, he creado un sencillo bot para la clase. Puedes hablar con él en https://t.me/progplnbot."
   ]
  },
  {
   "cell_type": "code",
   "execution_count": null,
   "metadata": {
    "collapsed": true
   },
   "outputs": [],
   "source": [
    "# bot: progpln\n",
    "# username: progplnbot\n",
    "# url: https://t.me/progplnbot\n",
    "# token: 304523995:AAF09xZgnX7cXQZr7u-CayCY19FweyfGD-0"
   ]
  },
  {
   "cell_type": "markdown",
   "metadata": {},
   "source": [
    "## Primera versión: un bot respondón\n",
    "\n",
    "Nuestro primer intento va a consistir en un bot que repite, automáticamente, cualquier mensaje que le recibe. El esqueleto del programa, el código mínimo necesario para que funciones, es el siguiente:\n"
   ]
  },
  {
   "cell_type": "code",
   "execution_count": null,
   "metadata": {
    "collapsed": false
   },
   "outputs": [],
   "source": [
    "import telebot\n",
    "\n",
    "# credenciales\n",
    "TOKEN = 'TUS CREDENCIALES' \n",
    "bot = telebot.TeleBot(TOKEN)\n",
    "\n",
    "\n",
    "# función para responder cualquier mensaje que recibe\n",
    "@bot.message_handler(func=lambda m: True)\n",
    "def echo_all(message):\n",
    "    bot.reply_to(message, message.text)\n",
    "    \n",
    "\n",
    "# instrucción para poner a la escucha al bot\n",
    "bot.polling()"
   ]
  },
  {
   "cell_type": "markdown",
   "metadata": {},
   "source": [
    "## Añadiendo instrucciones especiales\n",
    "\n",
    "Podemos añadir funciones que permitan manejar instrucciones especiales, que se introducen con el prefijo `/intruccion`. Fíjate en esta celda, en la que definimos un saludo como respuesta a la instrucciones `/start` o `/saludo`."
   ]
  },
  {
   "cell_type": "code",
   "execution_count": null,
   "metadata": {
    "collapsed": true
   },
   "outputs": [],
   "source": [
    "import telebot\n",
    "\n",
    "# credenciales\n",
    "TOKEN = 'TUS CREDENCIALES' \n",
    "bot = telebot.TeleBot(TOKEN)\n",
    "\n",
    "\n",
    "# función para manejar la instrucción /start (o /saludo) \n",
    "@bot.message_handler(commands=['start', 'saludo'])\n",
    "def send_welcome(message):\n",
    "    bot.reply_to(message, '¡Hoooola! Soy un bot respondón :-) Dime algo')\n",
    "    \n",
    "    \n",
    "# función para responder cualquier mensaje que recibe\n",
    "@bot.message_handler(func=lambda m: True)\n",
    "def echo_all(message):\n",
    "    bot.reply_to(message, message.text)\n",
    "    \n",
    "    \n",
    "# instrucción para poner a la escucha al bot\n",
    "bot.polling()"
   ]
  },
  {
   "cell_type": "markdown",
   "metadata": {},
   "source": [
    "## Funcionalidades extra a través de librerías\n",
    "\n",
    "Añadimos otra función extra: en este caso, queremos que el bot nos diga la fecha y la hora actual como respuesta a la instrucciones `/ahora` o `/reloj`. Para ello usaremos también la [librería `datetime`](https://docs.python.org/3.0/library/time.html) que permite gestionar operaciones con horas y fechas."
   ]
  },
  {
   "cell_type": "code",
   "execution_count": null,
   "metadata": {
    "collapsed": true
   },
   "outputs": [],
   "source": [
    "import telebot\n",
    "from datetime import datetime\n",
    "\n",
    "# credenciales\n",
    "TOKEN = 'TUS CREDENCIALES' \n",
    "bot = telebot.TeleBot(TOKEN)\n",
    "\n",
    "\n",
    "# función para manejar la instrucción /start (o /saludo) \n",
    "@bot.message_handler(commands=['start', 'saludo'])\n",
    "def send_welcome(message):\n",
    "    bot.reply_to(message, '¡Hoooola! Soy un bot respondón que te dice qué hora es :-) Prueba con /reloj')\n",
    "    \n",
    "    \n",
    "# función para manejar la instrucción /ahora (o /reloj) \n",
    "@bot.message_handler(commands=['dimelahora'])\n",
    "def show_time(message):\n",
    "    ahora = datetime.now()\n",
    "#    bot.reply_to(message, ahora.strftime('Son las %H:%M:%S del %d/%m/%Y.'))\n",
    "    bot.reply_to(message, ahora.strftime('Ahora mismo tenemos las %H horas y %M minutos, caballero'))\n",
    "    \n",
    "    \n",
    "# función para responder cualquier mensaje que recibe\n",
    "@bot.message_handler(func=lambda m: True)\n",
    "def echo_all(message):\n",
    "    bot.reply_to(message, message.text)\n",
    "    \n",
    "    \n",
    "# instrucción para poner a la escucha al bot\n",
    "bot.polling()"
   ]
  },
  {
   "cell_type": "markdown",
   "metadata": {},
   "source": [
    "## Incorporando funcionalidades lingüísticas\n",
    "\n",
    "Por último, vamos a incorporar algo de procesamiento lingüístico y expresiones regulares a nuestro bot. En la celda siguiente, añadimos una nueva función para analizar la polaridad de mensajes. Para ello, capturamos mensajes que contengan la instrucción *polaridad* y una frase en inglés, usando expresiones regulares y el análisis de sentimiento de `textblob`.\n",
    "\n",
    "Fíjate en que he cambiado el código utilizado para imprimir mensajes para hacerlos más limpios y evitar qu se imprima siempre el mensaje de entrada del usuario. He sustituido la instrucción `reply_to` de las celdas anteriores por `send_message`. El comportamiento es similar, se utiliza para que el bot imprima un mensaje pero: 1) como primer argumento es necesario especificar la propiedad `chat.id` del mensaje de entrada (en este ejemplo, la variable `m`); y 2) verás que la respuesta del bot es ahora más limpia."
   ]
  },
  {
   "cell_type": "code",
   "execution_count": null,
   "metadata": {
    "collapsed": false
   },
   "outputs": [],
   "source": [
    "import telebot\n",
    "from datetime import datetime\n",
    "import re\n",
    "from textblob import TextBlob\n",
    "\n",
    "# credenciales\n",
    "TOKEN = 'TUS CREDENCIALES' \n",
    "bot = telebot.TeleBot(TOKEN)\n",
    "\n",
    "\n",
    "# función para manejar la instrucción /start \n",
    "@bot.message_handler(commands=['start'])\n",
    "def send_welcome(m):\n",
    "    user = m.from_user.first_name # otra novedad, de esta forma recupero el nombre del usuario\n",
    "    welcometext = '''¡Hola %s! Soy un bot respondón :-) Sé hacer algunas cosas, prueba por ejemplo a:\n",
    "\n",
    "- preguntarme que hora es con los comandos /ahora o /reloj\n",
    "- pedirme que analice la polaridad de una frase en ingles con \"polaridad Some sentence in English\"\n",
    "''' % (user)\n",
    "    bot.send_message(m.chat.id, welcometext)\n",
    "    \n",
    "    \n",
    "# función para manejar la instrucción /ahora (o /reloj) \n",
    "@bot.message_handler(commands=['ahora', 'reloj'])\n",
    "def clock(m):\n",
    "    ahora = datetime.now()\n",
    "    bot.send_message(m.chat.id, ahora.strftime('Son las %H:%M:%S del %d/%m/%Y.'))\n",
    "\n",
    "        \n",
    "# regex para capturar mensajes cuya polaridad se quiere analizar\n",
    "polaridadregex = re.compile(r'''^[Pp]olaridad (.+)''')\n",
    "\n",
    "@bot.message_handler(regexp='^[Pp]olaridad .+')\n",
    "def polaridad(m):\n",
    "    opinion = polaridadregex.match(m.text).groups()[0]\n",
    "    t = TextBlob(opinion)\n",
    "    if t.sentiment.polarity <= -0.2:\n",
    "        bot.send_message(m.chat.id, 'Eres gente mala :-( ')\n",
    "    if -0.2 < t.sentiment.polarity <= 0.2:\n",
    "        bot.send_message(m.chat.id, 'Tu mensaje es neutro :-| ')\n",
    "    if 0.2 < t.sentiment.polarity:\n",
    "        bot.send_message(m.chat.id, 'Tu mensaje es positivo :-) ')\n",
    "        \n",
    "        \n",
    "# función para responder cuando no entiende el mensaje\n",
    "@bot.message_handler(func=lambda f: True)\n",
    "def echo_all(m):\n",
    "    bot.send_message(m.chat.id, 'No entiendo lo que dices. Prueba a ejecutar /start.')\n",
    "\n",
    "                \n",
    "bot.polling()"
   ]
  }
 ],
 "metadata": {
  "kernelspec": {
   "display_name": "Python 3",
   "language": "python",
   "name": "python3"
  },
  "language_info": {
   "codemirror_mode": {
    "name": "ipython",
    "version": 3
   },
   "file_extension": ".py",
   "mimetype": "text/x-python",
   "name": "python",
   "nbconvert_exporter": "python",
   "pygments_lexer": "ipython3",
   "version": "3.4.3+"
  }
 },
 "nbformat": 4,
 "nbformat_minor": 0
}
