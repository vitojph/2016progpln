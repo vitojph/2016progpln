{
 "cells": [
  {
   "cell_type": "markdown",
   "metadata": {},
   "source": [
    "# Control de flujo\n",
    "\n",
    "Hasta ahora hemos programado en Python intrucciones sencillas que solo tenían en cuenta una posibilidad. No evaluábamos nada, simplemente dábamos órdenes y Python obedecía. Como mucho, cuando cometíamos algún error de sintaxis, Python se quejaba, sin más. \n",
    "\n",
    "A partir de ahora vamos a aprender a manejar el **control de flujo**. Vamor a tener en cuenta resultados múltiples y vamos a seleccionar uno concreto dependiendo del valor que tengan las variables o de lo que esté ocurriendo en el programa en un momento concreto.\n",
    "\n",
    "## Comparadores\n",
    "\n",
    "Los elementos más sencillos del control de flujo son los **comparadores**:\n",
    "\n",
    "- Igual a `==`.\n",
    "- No es igual a `!=`.\n",
    "- Menor que `<`.\n",
    "- Menor o igual que `<=`.\n",
    "- Mayor que `>`.\n",
    "- Mayor o igual que `>=`.\n",
    "\n",
    "¡OJO! No confundas el comparador de igualdad `==` con el símbolo `=` que utilizamos para asignar valores a variables.\n",
    "\n",
    "Cuando utilizamos un comparador para comparar dos expresiones, el resultado que nos devuelve la comparación es un valor booleano: `True` o `False`."
   ]
  },
  {
   "cell_type": "code",
   "execution_count": 1,
   "metadata": {
    "collapsed": false
   },
   "outputs": [
    {
     "name": "stdout",
     "output_type": "stream",
     "text": [
      "False\n",
      "True\n",
      "True\n",
      "False\n",
      "False\n",
      "------------------\n",
      "True\n"
     ]
    },
    {
     "ename": "NameError",
     "evalue": "name 'MiVariable' is not defined",
     "output_type": "error",
     "traceback": [
      "\u001b[1;31m---------------------------------------------------------------------------\u001b[0m",
      "\u001b[1;31mNameError\u001b[0m                                 Traceback (most recent call last)",
      "\u001b[1;32m<ipython-input-1-3dee8493c00b>\u001b[0m in \u001b[0;36m<module>\u001b[1;34m()\u001b[0m\n\u001b[0;32m     14\u001b[0m \u001b[1;33m\u001b[0m\u001b[0m\n\u001b[0;32m     15\u001b[0m \u001b[1;33m\u001b[0m\u001b[0m\n\u001b[1;32m---> 16\u001b[1;33m \u001b[0mprint\u001b[0m\u001b[1;33m(\u001b[0m\u001b[0mMiVariable\u001b[0m \u001b[1;33m!=\u001b[0m \u001b[1;36m10\u001b[0m\u001b[1;33m)\u001b[0m\u001b[1;33m\u001b[0m\u001b[0m\n\u001b[0m",
      "\u001b[1;31mNameError\u001b[0m: name 'MiVariable' is not defined"
     ]
    }
   ],
   "source": [
    "# asignamos unos cuantos valores a variables\n",
    "numero1 = 2\n",
    "numero2 = 34\n",
    "\n",
    "print(numero1 == numero2)\n",
    "print(numero1 != numero2)\n",
    "print(numero1 == numero1)\n",
    "print(numero2 <= 10)\n",
    "\n",
    "print(19 >= (10 * numero1))\n",
    "\n",
    "print(\"------------------\")\n",
    "print(10 == (5*2))\n",
    "\n",
    "\n",
    "print(MiVariable != 10)"
   ]
  },
  {
   "cell_type": "markdown",
   "metadata": {},
   "source": [
    "## Condicionales\n",
    "\n",
    "En Python podemos evaluar **condiciones** con la intrucción `if`. `if` forma lo que se denomina un **bloque de código**, que tiene una sintaxis particular:\n",
    "\n",
    "    if COMPARACIÓN:\n",
    "        # si la comparación es True, ejecuta lo siguiente\n",
    "        INSTRUCCIONES_1\n",
    "\n",
    "\n",
    "Fíjate bien en dos cosas:\n",
    "\n",
    "- los bloques de código comienzan cuando una instrucción termina en dos puntos `:`\n",
    "- el código dentro del bloque aparece indentado o sangrado. \n",
    "\n",
    "Esta indentación se introduce pulsando el tabulador o tecleando espacios (habitualmente, cuatro espacios). Es muy importante mantener correctamente alineadas las instrucciones que aparecen dentro del mismo bloque de código. De lo contrario, podemos encontrar un error de sintaxis."
   ]
  },
  {
   "cell_type": "code",
   "execution_count": 2,
   "metadata": {
    "collapsed": false
   },
   "outputs": [
    {
     "name": "stdout",
     "output_type": "stream",
     "text": [
      "¡Hey! Te llamas igual que yo.\n",
      "Pues muy bien\n"
     ]
    }
   ],
   "source": [
    "nombre = 'Víctor'\n",
    "\n",
    "if nombre == 'Víctor':\n",
    "    print('¡Hey! Te llamas igual que yo.')\n",
    "    \n",
    "print(\"Pues muy bien\")    \n"
   ]
  },
  {
   "cell_type": "code",
   "execution_count": 3,
   "metadata": {
    "collapsed": false
   },
   "outputs": [
    {
     "name": "stdout",
     "output_type": "stream",
     "text": [
      "No vas a misa\n",
      "Esta es la última línea.\n"
     ]
    }
   ],
   "source": [
    "diadelasemana = 'jueves'\n",
    "\n",
    "if diadelasemana != 'domingo':\n",
    "    # hoy no es domingo\n",
    "    print(\"No vas a misa\")\n",
    "    \n",
    "if diadelasemana == 'viernes':\n",
    "    print(\"Empieza el fin de semana\")\n",
    "\n",
    "    \n",
    "print(\"Esta es la última línea.\")\n"
   ]
  },
  {
   "cell_type": "code",
   "execution_count": 4,
   "metadata": {
    "collapsed": false
   },
   "outputs": [
    {
     "name": "stdout",
     "output_type": "stream",
     "text": [
      "10 es igual a 5 veces 2\n"
     ]
    }
   ],
   "source": [
    "if 10 == 5*2:\n",
    "    print('10 es igual a 5 veces 2')"
   ]
  },
  {
   "cell_type": "markdown",
   "metadata": {},
   "source": [
    "Podemos evaluar condiciones más complejas definiciendo por ejemplo una alternativa cuando el resultado de la comparaciónn era `False`. Para ello, usamos instrucciones del tipo `if-else`, con la siguiente sintaxis:\n",
    "\n",
    "    if COMPARACIÓN:\n",
    "        # si la comparación es True, ejecuta lo siguiente\n",
    "        INSTRUCCIONES_1\n",
    "    else:\n",
    "        # por el contrario, si la comparación es False, ejecuta\n",
    "        INSTRUCCIONES_2"
   ]
  },
  {
   "cell_type": "code",
   "execution_count": 5,
   "metadata": {
    "collapsed": false
   },
   "outputs": [
    {
     "name": "stdout",
     "output_type": "stream",
     "text": [
      "Deberías estar trabajando, si te dejan.\n"
     ]
    }
   ],
   "source": [
    "# prueba cambiando el valor asignado a la variable edad\n",
    "edad = 44\n",
    "\n",
    "if edad >= 65:\n",
    "    print('¡Enhorabuena, estás jubilado!')\n",
    "else:\n",
    "    print('Deberías estar trabajando, si te dejan.')"
   ]
  },
  {
   "cell_type": "markdown",
   "metadata": {},
   "source": [
    "Por último, podemos evaluar distintas condiciones con instrucciones del tipo `if-elif-else`, con la siguiente sintaxis:\n",
    "\n",
    "    if COMPARACIÓN1:\n",
    "        # si la comparación es True, ejecuta lo siguiente\n",
    "        INSTRUCCIONES_1\n",
    "    elif COMPARACIÓN2:\n",
    "        # si esta comparación es True, ejecuta lo siguiente\n",
    "        INSTRUCCIONES_2\n",
    "    else:\n",
    "        # por el contrario, si ninguna comparación es True, ejecuta\n",
    "        INSTRUCCIONES_3\n",
    "\n",
    "Piensa en `elif` como en una abreviatura de `else + if`."
   ]
  },
  {
   "cell_type": "code",
   "execution_count": 6,
   "metadata": {
    "collapsed": false
   },
   "outputs": [
    {
     "name": "stdout",
     "output_type": "stream",
     "text": [
      "¡Ya es primavera!\n"
     ]
    }
   ],
   "source": [
    "# prueba varias ejecuciones de esta celda cambiando el valor asignado a la variable temperatura\n",
    "temperatura = 22\n",
    "\n",
    "if temperatura <= 0: \n",
    "    print('¡Está helando!')\n",
    "elif 1 <= temperatura <= 10:\n",
    "    print('¡Hace frescuni!')\n",
    "elif 11 <= temperatura <= 25:\n",
    "    print('¡Ya es primavera!')\n",
    "else:\n",
    "    print('¡Buff, qué calor!')   "
   ]
  },
  {
   "cell_type": "markdown",
   "metadata": {},
   "source": [
    "## Operadores lógicos (o booleanos)\n",
    "\n",
    "Los operadores lógicos son palabras usadas para conectar *oraciones* de Python de forma gramaticalmente correcta, casi igual que si lo hiciésamos en lenguaje natural. Existen tres operadores lógicos:\n",
    "\n",
    "- la conjunción `and`: \n",
    "- la disyunción `or`.\n",
    "- la negación `not`.\n",
    "\n",
    "Al igual que con las comparaciones, los operadores lógicos generan valores booleanos: `True` o `False`."
   ]
  },
  {
   "cell_type": "code",
   "execution_count": 7,
   "metadata": {
    "collapsed": false
   },
   "outputs": [
    {
     "name": "stdout",
     "output_type": "stream",
     "text": [
      "Te pareces a mí en algo.\n"
     ]
    }
   ],
   "source": [
    "nombre = 'Víctor'\n",
    "edad = 37\n",
    "\n",
    "if nombre == 'Víctor' and edad == 38:\n",
    "    print('¡Hey! ¡Eres yo! ¿Quién te envía?')\n",
    "elif nombre == 'Víctor' or edad == 38:\n",
    "    print('Te pareces a mí en algo.')\n",
    "if not nombre == 'Víctor' and not edad == 38: # esto es equivalente a if nombre != \"Víctor\" and edad != 34:\n",
    "    print('No tienes nada que ver conmigo')"
   ]
  },
  {
   "cell_type": "code",
   "execution_count": 8,
   "metadata": {
    "collapsed": false
   },
   "outputs": [
    {
     "name": "stdout",
     "output_type": "stream",
     "text": [
      "['Pepito', 'Raul', 'Ana', 'Antonio', 'Maria']\n"
     ]
    }
   ],
   "source": [
    "alumnos = [\"Pepito\", \"Raul\", \"Ana\", \"Antonio\", \"Maria\"]\n",
    "print(alumnos)"
   ]
  },
  {
   "cell_type": "code",
   "execution_count": 9,
   "metadata": {
    "collapsed": false
   },
   "outputs": [
    {
     "name": "stdout",
     "output_type": "stream",
     "text": [
      "No es cierto que Paco y Ana estén en clase\n"
     ]
    }
   ],
   "source": [
    "if 'Paco' in alumnos and 'Ana' in alumnos:\n",
    "    print('Paco y Ana están en clase.')\n",
    "else:\n",
    "    print('No es cierto que Paco y Ana estén en clase')"
   ]
  },
  {
   "cell_type": "code",
   "execution_count": 10,
   "metadata": {
    "collapsed": false
   },
   "outputs": [
    {
     "name": "stdout",
     "output_type": "stream",
     "text": [
      "Paco o Ana, uno de los dos o ambos, está en clase.\n"
     ]
    }
   ],
   "source": [
    "if \"Paco\" in alumnos or \"Ana\" in alumnos:\n",
    "    print('Paco o Ana, uno de los dos o ambos, está en clase.')\n",
    "else:\n",
    "    print('No ha venido ninguno')"
   ]
  },
  {
   "cell_type": "markdown",
   "metadata": {},
   "source": [
    "A continuación, hay más ejemplos de evaluación de condiciones con bloques de código `if` con dudas que surgen en clase. Pactica para entender cómo funcionan."
   ]
  },
  {
   "cell_type": "code",
   "execution_count": 11,
   "metadata": {
    "collapsed": false
   },
   "outputs": [
    {
     "name": "stdout",
     "output_type": "stream",
     "text": [
      "Pepito está en clase\n",
      "Ana está en clase\n",
      "Menos mal que es viernes\n"
     ]
    }
   ],
   "source": [
    "alumnos = [\"Pepito\", \"Raul\", \"Ana\", \"Antonio\", \"Maria\"]\n",
    "hoy = \"viernes\"\n",
    "\n",
    "if \"Pepito\" in alumnos:\n",
    "    print(\"Pepito está en clase\")\n",
    "    \n",
    "if \"Ana\" in alumnos:\n",
    "    print(\"Ana está en clase\")\n",
    "\n",
    "if \"Pepito\" in alumnos and \"Ana\" not in alumnos and hoy == \"viernes\":\n",
    "    print(\"Pepito ha venido, pero Ana no. Menos mal que es viernes\")\n",
    "    \n",
    "if \"Pepito\" in alumnos and \"Ana\" not in alumnos:\n",
    "    print(\"Pepito ha venido, pero Ana no\")\n",
    "\n",
    "if hoy == \"viernes\":\n",
    "    print(\"Menos mal que es viernes\")"
   ]
  },
  {
   "cell_type": "code",
   "execution_count": 12,
   "metadata": {
    "collapsed": false
   },
   "outputs": [
    {
     "name": "stdout",
     "output_type": "stream",
     "text": [
      "['Pepito', 'Raul', 'Ana', 'Antonio', 'Maria']\n",
      "['1', '2', '3', '4', '5', '6', '7', '8', '9', '10']\n",
      "11\n"
     ]
    }
   ],
   "source": [
    "alumnos = 'Pepito Raul Ana Antonio Maria'.split()\n",
    "print(alumnos)\n",
    "\n",
    "numeros = \"1 2 3 4 5 6 7 8 9 10\".split()\n",
    "print(numeros)\n",
    "print(int(numeros[0]) + int(numeros[-1]))"
   ]
  },
  {
   "cell_type": "code",
   "execution_count": 13,
   "metadata": {
    "collapsed": false
   },
   "outputs": [
    {
     "name": "stdout",
     "output_type": "stream",
     "text": [
      "True\n",
      "True\n",
      "True\n",
      "True\n",
      "True\n",
      "False\n"
     ]
    }
   ],
   "source": [
    "# algunos ejemplos para distinguir el funcionamiento de == y de in\n",
    "palabras_minusculas = \"hola casa amigo wertyj\"\n",
    "palabras_mayusculas = \"AMIGO VIERNES CAFÉ\"\n",
    "\n",
    "print(\"casa\" in palabras_minusculas)\n",
    "print(\"O V\" in palabras_mayusculas)\n",
    "\n",
    "print(\"amigo\" in \"amigo\")\n",
    "print(\"amigo\" == \"amigo\")\n",
    "\n",
    "print(\"amigo\" in \"amigos\")\n",
    "print(\"amigo\" == \"amigos\")"
   ]
  }
 ],
 "metadata": {
  "kernelspec": {
   "display_name": "Python 3",
   "language": "python",
   "name": "python3"
  },
  "language_info": {
   "codemirror_mode": {
    "name": "ipython",
    "version": 3
   },
   "file_extension": ".py",
   "mimetype": "text/x-python",
   "name": "python",
   "nbconvert_exporter": "python",
   "pygments_lexer": "ipython3",
   "version": "3.4.3+"
  }
 },
 "nbformat": 4,
 "nbformat_minor": 0
}
