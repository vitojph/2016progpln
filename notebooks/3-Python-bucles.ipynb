{
 "cells": [
  {
   "cell_type": "markdown",
   "metadata": {},
   "source": [
    "# Bucles\n",
    "\n",
    "Los **bucles** permiten iterar rápidamente una y otra vez sobre una estructura de datos. En Python hay dos tipos de bucles: `for` y `while`.\n",
    "\n"
   ]
  },
  {
   "cell_type": "code",
   "execution_count": 1,
   "metadata": {
    "collapsed": false
   },
   "outputs": [
    {
     "name": "stdout",
     "output_type": "stream",
     "text": [
      "[1, 2, 3, 4, 5, 6, 7, 8, 9, 10]\n",
      "['lunes', 'martes', 'miercoles', 'jueves', 'viernes', 'sabado', 'domingo']\n",
      "['Green', 'colorless', 'ideas', 'sleep', 'furiously']\n",
      "['sandra@mail.com', 'ana@mail.com', 'pepe@mail.es']\n"
     ]
    }
   ],
   "source": [
    "# antes de nada, creo unas cuantas variables con listas para jugar\n",
    "numeros = [1, 2, 3, 4, 5, 6, 7, 8, 9, 10]\n",
    "print(numeros)\n",
    "\n",
    "# fíjate en esta forma nueva de crear una lista a partir de una cadena\n",
    "# el método .split() me permite \"romper\" una cadena en una lista de cadenas\n",
    "# cuando usamos .split() sin más, estamos tokenizando una cadena de texto\n",
    "semana = \"lunes martes miercoles jueves viernes sabado domingo\".split()\n",
    "print(semana)\n",
    "\n",
    "oracion = \"Green colorless ideas sleep furiously\".split()\n",
    "print(oracion)\n",
    "\n",
    "# sin embargo, puedo especificar una subcadena como separador \n",
    "emails = \"sandra@mail.com; ana@mail.com; pepe@mail.es\".split(\"; \")\n",
    "print(emails)"
   ]
  },
  {
   "cell_type": "code",
   "execution_count": 2,
   "metadata": {
    "collapsed": false
   },
   "outputs": [
    {
     "name": "stdout",
     "output_type": "stream",
     "text": [
      "El tercer número de mi lista es 3\n",
      "Y el último email es pepe@mail.es\n"
     ]
    }
   ],
   "source": [
    "# puedo acceder a los elementos de la lista a través de índices\n",
    "print(\"El tercer número de mi lista es\", numeros[2])\n",
    "print(\"Y el último email es\", emails[-1])"
   ]
  },
  {
   "cell_type": "markdown",
   "metadata": {},
   "source": [
    "Si necesitamos recorrer todos y cada uno de los elementos de la lista, es más sencillo usar un bucle `for`.\n",
    "\n",
    "## Bucles `for`.\n",
    "\n",
    "La instrucción `for` permite recorrer los elementos de cualquier secuencia ordenada de uno en uno y por orden. La sintaxis de un bloque de código `for-in` es la siguiente:\n",
    "\n",
    "    for ELEMENTO in SECUENCIA:\n",
    "        # ejecuta las instrucciones tantas veces como elementos tenga la secuencia\n",
    "        INSTRUCCIONES\n",
    "\n",
    "Las palabras reservadas `for` y `in` son obligatorias. SECUENCIA puede ser cualquier estructuras de datos que sea una secuencia ordenada (por ejemplo, **cadenas**, las **listas** y las **tuplas**). `ELEMENTO` es el con el que designamos cada uno de los elementos de `SECUENCIA`. Ten en cuenta de `ELEMENTO` adopta, en cada paso del bucle, un valor diferente."
   ]
  },
  {
   "cell_type": "code",
   "execution_count": 3,
   "metadata": {
    "collapsed": false
   },
   "outputs": [
    {
     "name": "stdout",
     "output_type": "stream",
     "text": [
      "Voy por el numero 1\n",
      "Voy por el numero 2\n",
      "Voy por el numero 3\n",
      "Voy por el numero 4\n",
      "Voy por el numero 5\n",
      "Voy por el numero 6\n",
      "Voy por el numero 7\n",
      "Voy por el numero 8\n",
      "Voy por el numero 9\n",
      "Voy por el numero 10\n"
     ]
    }
   ],
   "source": [
    "for numero in numeros:\n",
    "    print(\"Voy por el numero\", numero)"
   ]
  },
  {
   "cell_type": "code",
   "execution_count": 4,
   "metadata": {
    "collapsed": false
   },
   "outputs": [
    {
     "name": "stdout",
     "output_type": "stream",
     "text": [
      "Me gusta el lunes\n",
      "Me gusta el martes\n",
      "Me gusta el miercoles\n",
      "Me gusta el jueves\n",
      "Me gusta el viernes\n",
      "Me gusta el sabado\n",
      "Me gusta el domingo\n"
     ]
    }
   ],
   "source": [
    "for dia in semana:\n",
    "    print(\"Me gusta el\", dia)"
   ]
  },
  {
   "cell_type": "code",
   "execution_count": 5,
   "metadata": {
    "collapsed": false
   },
   "outputs": [
    {
     "name": "stdout",
     "output_type": "stream",
     "text": [
      "Tengo 5 cosas guardadas en un cajón:\n",
      "- una bicicleta\n",
      "- el número pi\n",
      "- 23\n",
      "- otro libro\n",
      "- un café\n"
     ]
    }
   ],
   "source": [
    "cajon = [\"una bicicleta\", 234, \"el número pi\", 23, \"un libro\", \"otro libro\"]\n",
    "\n",
    "# añado un café a mi lista de cosas\n",
    "cajon.append(\"un café\")\n",
    "\n",
    "# elimino el segundo elemento\n",
    "cajon.pop(1)\n",
    "\n",
    "cajon.remove(\"un libro\")\n",
    "\n",
    "print(\"Tengo\", len(cajon), \"cosas guardadas en un cajón:\")\n",
    "for elemento in cajon:\n",
    "    print(\"-\", elemento)"
   ]
  },
  {
   "cell_type": "code",
   "execution_count": 6,
   "metadata": {
    "collapsed": false
   },
   "outputs": [
    {
     "name": "stdout",
     "output_type": "stream",
     "text": [
      "['Pepito', 'Raúl', 'Ana', 'Antonio', 'María']\n",
      "Pero Pepito sí ha venido\n",
      "Pero Raúl sí ha venido\n",
      "Pero Ana sí ha venido\n",
      "Pero Antonio sí ha venido\n",
      "Pero María sí ha venido\n"
     ]
    }
   ],
   "source": [
    "alumnos = \"Pepito:Raúl:Ana:Antonio:María\".split(\":\")\n",
    "print(alumnos)\n",
    "\n",
    "\n",
    "for alumno in alumnos:\n",
    "    if alumno == \"Paco\":\n",
    "        print(\"Paco ha venido a clase\")\n",
    "    else:\n",
    "        print(\"Pero\", alumno, \"sí ha venido\")"
   ]
  },
  {
   "cell_type": "code",
   "execution_count": 7,
   "metadata": {
    "collapsed": false
   },
   "outputs": [
    {
     "ename": "NameError",
     "evalue": "name 'haVenidoPaco' is not defined",
     "output_type": "error",
     "traceback": [
      "\u001b[1;31m---------------------------------------------------------------------------\u001b[0m",
      "\u001b[1;31mNameError\u001b[0m                                 Traceback (most recent call last)",
      "\u001b[1;32m<ipython-input-7-cb6ceda642b3>\u001b[0m in \u001b[0;36m<module>\u001b[1;34m()\u001b[0m\n\u001b[0;32m      8\u001b[0m \u001b[1;33m\u001b[0m\u001b[0m\n\u001b[0;32m      9\u001b[0m \u001b[1;31m#if haVenidoPaco == True:\u001b[0m\u001b[1;33m\u001b[0m\u001b[1;33m\u001b[0m\u001b[0m\n\u001b[1;32m---> 10\u001b[1;33m \u001b[1;32mif\u001b[0m \u001b[0mhaVenidoPaco\u001b[0m\u001b[1;33m:\u001b[0m\u001b[1;33m\u001b[0m\u001b[0m\n\u001b[0m\u001b[0;32m     11\u001b[0m     \u001b[0mprint\u001b[0m\u001b[1;33m(\u001b[0m\u001b[1;34m\"Es verdad que Paco ha venido\"\u001b[0m\u001b[1;33m)\u001b[0m\u001b[1;33m\u001b[0m\u001b[0m\n\u001b[0;32m     12\u001b[0m \u001b[1;32melse\u001b[0m\u001b[1;33m:\u001b[0m\u001b[1;33m\u001b[0m\u001b[0m\n",
      "\u001b[1;31mNameError\u001b[0m: name 'haVenidoPaco' is not defined"
     ]
    }
   ],
   "source": [
    "alumnos = \"Pepito:Raúl:Ana:Antonio:María\".split(\":\")\n",
    "\n",
    "#haVenidoPaco = False\n",
    "\n",
    "for alumno in alumnos:\n",
    "    if alumno == \"Paco\":\n",
    "        haVenidoPaco = True\n",
    "        \n",
    "#if haVenidoPaco == True:\n",
    "if haVenidoPaco:\n",
    "    print(\"Es verdad que Paco ha venido\")\n",
    "else:\n",
    "    print(\"Parece que Paco NO ha venido hoy\")    "
   ]
  },
  {
   "cell_type": "code",
   "execution_count": 8,
   "metadata": {
    "collapsed": false
   },
   "outputs": [
    {
     "name": "stdout",
     "output_type": "stream",
     "text": [
      "Parece que Paco NO ha venido hoy\n"
     ]
    }
   ],
   "source": [
    "if \"Paco\" in alumnos:\n",
    "    print(\"Es verdad que Paco ha venido\")\n",
    "else:\n",
    "    print(\"Parece que Paco NO ha venido hoy\")"
   ]
  },
  {
   "cell_type": "code",
   "execution_count": 9,
   "metadata": {
    "collapsed": false
   },
   "outputs": [
    {
     "name": "stdout",
     "output_type": "stream",
     "text": [
      "a\n",
      "b\n",
      "c\n",
      "d\n",
      "e\n",
      "f\n",
      "g\n",
      "h\n",
      "i\n",
      "j\n",
      "k\n",
      "l\n",
      "m\n",
      "n\n",
      "o\n",
      "p\n",
      "q\n",
      "r\n",
      "s\n",
      "t\n",
      "u\n",
      "v\n",
      "w\n",
      "x\n",
      "y\n",
      "z\n"
     ]
    }
   ],
   "source": [
    "for letra in \"abcdefghijklmnopqrstuvwxyz\":\n",
    "    print(letra)"
   ]
  },
  {
   "cell_type": "code",
   "execution_count": 10,
   "metadata": {
    "collapsed": false
   },
   "outputs": [
    {
     "name": "stdout",
     "output_type": "stream",
     "text": [
      "clave1\n",
      "clave2\n",
      "clave3\n",
      "------------------------\n",
      "clave1\n",
      "clave2\n",
      "clave3\n",
      "------------------------\n",
      "1\n",
      "2\n",
      "3\n",
      "------------------------\n",
      "clave1 guarda el valor 1\n",
      "clave2 guarda el valor 2\n",
      "clave3 guarda el valor 3\n"
     ]
    }
   ],
   "source": [
    "d = {\"clave1\": 1, \"clave2\":2, \"clave3\":3 }\n",
    "\n",
    "for elemento in d:\n",
    "    print(elemento)\n",
    "    \n",
    "print(\"------------------------\")\n",
    "\n",
    "for clave in d.keys():\n",
    "    print(clave)\n",
    "    \n",
    "\n",
    "print(\"------------------------\")\n",
    "\n",
    "for valor in d.values():\n",
    "    print(valor)\n",
    "\n",
    "    \n",
    "print(\"------------------------\")\n",
    "\n",
    "for k, v in d.items():\n",
    "    print(k, \"guarda el valor\", v)\n",
    "    "
   ]
  },
  {
   "cell_type": "markdown",
   "metadata": {},
   "source": [
    "## Bucles `while`.\n",
    "\n",
    "La instrucción `while` permite establecer un bucle que repita un conjunto de instrucciones siempre que se dé determinada condición. La sintaxis de un bloque de código `while` es la siguiente:\n",
    "\n",
    "    while CONDICIÓN:\n",
    "        # ejecuta las instrucciones a continuación mientras CONDICIÓN sea verdadera\n",
    "        INSTRUCCIONES\n",
    "\n",
    "Apenas la vamos a utilizar, pero sirva el siguiente ejemplo para ilustrar su uso."
   ]
  },
  {
   "cell_type": "code",
   "execution_count": 11,
   "metadata": {
    "collapsed": false
   },
   "outputs": [
    {
     "name": "stdout",
     "output_type": "stream",
     "text": [
      "El número 1 es menor o igual que 5\n",
      "El número 2 es menor o igual que 5\n",
      "El número 3 es menor o igual que 5\n",
      "El número 4 es menor o igual que 5\n",
      "El número 5 es menor o igual que 5\n"
     ]
    }
   ],
   "source": [
    "numero = 1\n",
    "limite = 5\n",
    "\n",
    "while numero <= limite:\n",
    "    print(\"El número\", numero, \"es menor o igual que\", limite)\n",
    "    numero = numero + 1"
   ]
  }
 ],
 "metadata": {
  "kernelspec": {
   "display_name": "Python 3",
   "language": "python",
   "name": "python3"
  },
  "language_info": {
   "codemirror_mode": {
    "name": "ipython",
    "version": 3
   },
   "file_extension": ".py",
   "mimetype": "text/x-python",
   "name": "python",
   "nbconvert_exporter": "python",
   "pygments_lexer": "ipython3",
   "version": "3.4.3+"
  }
 },
 "nbformat": 4,
 "nbformat_minor": 0
}
