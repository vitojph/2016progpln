{
 "cells": [
  {
   "cell_type": "markdown",
   "metadata": {},
   "source": [
    "# Introducción a Python\n",
    "\n",
    "Vamos a hacer una pequeña introducción al lenguaje de programación [Python](http://www.python.org). Para ello, me voy a apoyar principalmente en dos excelentes recursos para aprender Python online que siempre recomiendo: \n",
    "\n",
    "- el curso de [Python en CodeCademy](https://www.codecademy.com/learn/python).\n",
    "- el curso [Python for the Humanities](http://www.karsdorp.io/python-course/) de Folgert Karsdorp.\n",
    "\n",
    "\n",
    "## ¿Qué es esto?\n",
    "\n",
    "Esto es un cuaderno de Jupyter compuesto de una serie de celdas de distintos tipos. Esta primera celda contiene texto formateado. Para ver el código (y editarlo, si es necesario), haz doble clic sobre ella y verás el código Markdown.\n",
    "\n",
    "La siguiente celda, por el contrario, contiene código en Python. Para ejecutarla y ver cómo funciona, selecciónala y pulsa `ctrl-ENTER`:"
   ]
  },
  {
   "cell_type": "code",
   "execution_count": 1,
   "metadata": {
    "collapsed": false
   },
   "outputs": [
    {
     "name": "stdout",
     "output_type": "stream",
     "text": [
      "Esto es un mensaje\n"
     ]
    }
   ],
   "source": [
    "print('Esto es un mensaje')"
   ]
  },
  {
   "cell_type": "markdown",
   "metadata": {},
   "source": [
    "## Variables y tipos de datos\n",
    "\n",
    "En los lenguajes de programación, una **variable** es un tipo de *identificador* que almacena o al que se le asigna un determinado valor. Este valor puede ser de distinto tipo, como veremos más adelante. Para asignar valores a variables, utilizamos el signo `=` con la siguiente sintaxis:\n",
    "\n",
    "    nombre_de_variable = valor\n",
    "\n",
    "Veamos un ejemplo: vamos a *declarar* distintas variables, asignándoles valores:"
   ]
  },
  {
   "cell_type": "code",
   "execution_count": 2,
   "metadata": {
    "collapsed": false
   },
   "outputs": [],
   "source": [
    "# NOTA: en Python, las líneas que comienzan con # son comentarios\n",
    "# El intérprete no las lee. Los humanos sí deberíamos leerlas :-)\n",
    "mivariable = 34\n",
    "edad = 25\n",
    "year = 1992"
   ]
  },
  {
   "cell_type": "markdown",
   "metadata": {},
   "source": [
    "En Python podemos utilizar como nombre de variable cualquier secuencia de caracteres alfanuméricos, siempre que comience por una letra del alfabeto y no sea una palabra reservada por el propio lenguaje (típicamente, nombres de funciones y palabras clave).\n",
    "\n",
    "Una vez que hemos asignado valores a nombres de variables, podemos utilizar o recuperar esos valores siempre que lo necesitemos. \n",
    "\n",
    "Para hacer una pequeña prueba, vamos a imprimir por pantalla el valor de las variables declaradas anteriormente. Para imprimir por pantalla, usamos la función `print`."
   ]
  },
  {
   "cell_type": "code",
   "execution_count": 3,
   "metadata": {
    "collapsed": false
   },
   "outputs": [
    {
     "name": "stdout",
     "output_type": "stream",
     "text": [
      "34\n",
      "1992\n",
      "mivariable\n",
      "year\n",
      "El niño come manzanas.\n",
      "255666\n"
     ]
    }
   ],
   "source": [
    "print(mivariable)\n",
    "print(year)\n",
    "print('mivariable')\n",
    "print('year')\n",
    "print('El niño come manzanas.')\n",
    "print(255666)\n"
   ]
  },
  {
   "cell_type": "code",
   "execution_count": 4,
   "metadata": {
    "collapsed": false
   },
   "outputs": [
    {
     "ename": "NameError",
     "evalue": "name 'otraVariable' is not defined",
     "output_type": "error",
     "traceback": [
      "\u001b[1;31m---------------------------------------------------------------------------\u001b[0m",
      "\u001b[1;31mNameError\u001b[0m                                 Traceback (most recent call last)",
      "\u001b[1;32m<ipython-input-4-b194cb63a1bb>\u001b[0m in \u001b[0;36m<module>\u001b[1;34m()\u001b[0m\n\u001b[0;32m      1\u001b[0m \u001b[1;31m# esta celda dará error, al menos mientras no declaremos la variable llamada otraVariable\u001b[0m\u001b[1;33m\u001b[0m\u001b[1;33m\u001b[0m\u001b[0m\n\u001b[1;32m----> 2\u001b[1;33m \u001b[0mprint\u001b[0m\u001b[1;33m(\u001b[0m\u001b[0motraVariable\u001b[0m\u001b[1;33m)\u001b[0m\u001b[1;33m\u001b[0m\u001b[0m\n\u001b[0m",
      "\u001b[1;31mNameError\u001b[0m: name 'otraVariable' is not defined"
     ]
    }
   ],
   "source": [
    "# esta celda dará error, al menos mientras no declaremos la variable llamada otraVariable\n",
    "print(otraVariable)"
   ]
  },
  {
   "cell_type": "markdown",
   "metadata": {},
   "source": [
    "En el ejemplo anterior, hemos declarado tres variables diferentes. Sin embargo, el tipo de dato que estábamos almacenando era el mismo: simples números enteros. \n",
    "\n",
    "Como hemos mencionado antes, las variables pueden almacenar distintos tipos de datos. Los principales que vamos a utilizar nosotros son: \n",
    "\n",
    "- números enteros: *1, 4542, -38*\n",
    "- números reales: *2.3, -0.00000034123, 10.0*\n",
    "- cadenas de texto: *hola*, *La niña come manzanas*, *to/TO be/VB or/CC not/RB to/TO be/VB*\n",
    "- valores *booleanos*: `True`, `False`\n",
    "\n",
    "Veamos cómo funcionan."
   ]
  },
  {
   "cell_type": "code",
   "execution_count": 5,
   "metadata": {
    "collapsed": false
   },
   "outputs": [],
   "source": [
    "# números enteros (integer)\n",
    "hijos = 3\n",
    "\n",
    "# números reales (float), siempre indicando los decimales con punto\n",
    "precio = 350.25\n",
    "longitud = 1.5\n",
    "\n",
    "# cadenas de texto (string), siempre entre comillas simples o dobles\n",
    "nombre = \"Pedro\"\n",
    "apellidos = 'Sanz Hernández'\n",
    "\n",
    "# valores booleanos (bool): solo pueden ser True o False, escritos tal cual sin comillas\n",
    "animal = True\n",
    "mineral = False"
   ]
  },
  {
   "cell_type": "code",
   "execution_count": 6,
   "metadata": {
    "collapsed": false
   },
   "outputs": [
    {
     "name": "stdout",
     "output_type": "stream",
     "text": [
      "3\n",
      "Me llamo Pedro Sanz Hernández\n",
      "350.25\n",
      "False\n"
     ]
    }
   ],
   "source": [
    "# imprimimos algunos de ellos por pantalla\n",
    "print(hijos)\n",
    "print(\"Me llamo\", nombre, apellidos) # fíjate cómo puedo imprimir más de una cosa con la función print\n",
    "print(precio)\n",
    "print(mineral)"
   ]
  },
  {
   "cell_type": "markdown",
   "metadata": {},
   "source": [
    "Los valores que contienen las variabes pueden ser reasignados en cualquier momento. Eso sí, solo almacenan el último valor que hayamos asignado. \n",
    "\n",
    "Si reasignamos algunas de las variables declaradas anteriormente e imprimimos sus valores por pantalla, comprobamos que éstos han cambiado:"
   ]
  },
  {
   "cell_type": "code",
   "execution_count": 7,
   "metadata": {
    "collapsed": false
   },
   "outputs": [
    {
     "name": "stdout",
     "output_type": "stream",
     "text": [
      "Ana Serrano de la Oca\n"
     ]
    }
   ],
   "source": [
    "nombre = 'Ana'\n",
    "apellidos = 'Serrano de la Oca'\n",
    "print(nombre, apellidos)"
   ]
  },
  {
   "cell_type": "markdown",
   "metadata": {},
   "source": [
    "## Operaciones aritméticas\n",
    "\n",
    "Podemos utilizar el intérprete de Python como una calculadora. Basta con introducir operaciones aritméticas como operadores que seguramente ya conoces: suma (`+`), resta (`-`), multiplicación (`*`), división (`/`), potencias (`**`) y módulo (`%`). Vamos a imprimir por pantalla el resultado de algunas operaciones."
   ]
  },
  {
   "cell_type": "code",
   "execution_count": 8,
   "metadata": {
    "collapsed": false
   },
   "outputs": [
    {
     "name": "stdout",
     "output_type": "stream",
     "text": [
      "11\n",
      "7\n",
      "150\n",
      "0.0031975\n",
      "8\n",
      "0\n",
      "35\n",
      "46\n",
      "35\n"
     ]
    }
   ],
   "source": [
    "#suma \n",
    "print(5+6)\n",
    "\n",
    "# resta\n",
    "print(10-3)\n",
    "\n",
    "# multiplicación\n",
    "print(25*6)\n",
    "\n",
    "# división\n",
    "print(2558/800000)\n",
    "\n",
    "# potencias\n",
    "print(2**3)\n",
    "\n",
    "# módulo hace referencia al resto de la división 10/2.\n",
    "print(10%2)\n",
    "\n",
    "print(6+5+12*2)\n",
    "\n",
    "print((6+5+12)*2)\n",
    "\n",
    "print(6+5+(12*2))"
   ]
  },
  {
   "cell_type": "markdown",
   "metadata": {},
   "source": [
    "Si retomamos lo aprendido anteriormente acerca de las variables, veremos que podemos declarar variables a partir de operaciones matemáticas, por ejemplo:"
   ]
  },
  {
   "cell_type": "code",
   "execution_count": 9,
   "metadata": {
    "collapsed": false
   },
   "outputs": [
    {
     "name": "stdout",
     "output_type": "stream",
     "text": [
      "14\n"
     ]
    }
   ],
   "source": [
    "# una suma sencilla\n",
    "suma = 9+5\n",
    "print(suma)"
   ]
  },
  {
   "cell_type": "code",
   "execution_count": 10,
   "metadata": {
    "collapsed": false
   },
   "outputs": [
    {
     "name": "stdout",
     "output_type": "stream",
     "text": [
      "2.25\n"
     ]
    }
   ],
   "source": [
    "# calculamos el área de un cuadrado\n",
    "lado = 1.5\n",
    "area = lado**2 # es equivalente a lado*lado\n",
    "print(area)"
   ]
  },
  {
   "cell_type": "code",
   "execution_count": 11,
   "metadata": {
    "collapsed": false
   },
   "outputs": [
    {
     "name": "stdout",
     "output_type": "stream",
     "text": [
      "24.139499999999998\n"
     ]
    }
   ],
   "source": [
    "# vamos a calcular el precio final de un producto cuyo valor es 19,95€\n",
    "iva = 21\n",
    "precio = 19.95\n",
    "precio_final = precio + (precio * iva)/100\n",
    "print(precio_final)"
   ]
  },
  {
   "cell_type": "code",
   "execution_count": 12,
   "metadata": {
    "collapsed": false
   },
   "outputs": [
    {
     "name": "stdout",
     "output_type": "stream",
     "text": [
      "31\n"
     ]
    }
   ],
   "source": [
    "# calculamos la edad actual de una persona\n",
    "ahora = 2016\n",
    "fechaNacimiento = 1985\n",
    "edad = ahora - fechaNacimiento\n",
    "print(edad)"
   ]
  },
  {
   "cell_type": "markdown",
   "metadata": {},
   "source": [
    "# Gestión de cadenas (*strings*)\n",
    "\n",
    "Si nuestro objetivo es aprende a programar en Python para procesar texto, las **cadenas de caracteres** van a ser el principal tipo de dato que vamos a manejar. Como hemos visto antes, las cadenas se identifican en Python porque se declaran entre comillas dobles (`\"cadena\"`) o simples (`'cadena'`) o, si las cadenas son muy largas y ocupan más de una línea, entre triples pares de comillas. \n",
    "\n",
    "Algunos ejemplos de cadenas:"
   ]
  },
  {
   "cell_type": "code",
   "execution_count": 13,
   "metadata": {
    "collapsed": false
   },
   "outputs": [],
   "source": [
    "nombre = \"Godofredo de Orléans\"\n",
    "\n",
    "oracion = 'GREEN COLORLESS IDEAS SLEEP FURIOUSLY'\n",
    "\n",
    "parrafo = '''En un lugar de la Mancha, de cuyo nombre no quiero acordarme, \n",
    "no ha mucho tiempo que vivía un \"hidalgo\" de los de lanza en astillero, \n",
    "adarga antigua, rocín flaco y galgo corredor. Una olla de algo más vaca \n",
    "que carnero, salpicón las más noches, duelos y quebrantos los sábados, \n",
    "lentejas los viernes, algún palomino de añadidura los domingos, consumían \n",
    "las tres partes de su hacienda.'''"
   ]
  },
  {
   "cell_type": "markdown",
   "metadata": {},
   "source": [
    "¡OJO! Podemos definir como valores de variables cadenas formadas por secuencias de números, siempre que se declaren entre comillas. Es muy importante entender la diferencia entre:"
   ]
  },
  {
   "cell_type": "code",
   "execution_count": 14,
   "metadata": {
    "collapsed": false
   },
   "outputs": [
    {
     "name": "stdout",
     "output_type": "stream",
     "text": [
      "45852237\n"
     ]
    },
    {
     "ename": "TypeError",
     "evalue": "Can't convert 'int' object to str implicitly",
     "output_type": "error",
     "traceback": [
      "\u001b[1;31m---------------------------------------------------------------------------\u001b[0m",
      "\u001b[1;31mTypeError\u001b[0m                                 Traceback (most recent call last)",
      "\u001b[1;32m<ipython-input-14-5aa10caccdd5>\u001b[0m in \u001b[0;36m<module>\u001b[1;34m()\u001b[0m\n\u001b[0;32m      6\u001b[0m \u001b[1;33m\u001b[0m\u001b[0m\n\u001b[0;32m      7\u001b[0m \u001b[1;31m# pero no entre cadenas y números: esto da un error\u001b[0m\u001b[1;33m\u001b[0m\u001b[1;33m\u001b[0m\u001b[0m\n\u001b[1;32m----> 8\u001b[1;33m \u001b[0mprint\u001b[0m\u001b[1;33m(\u001b[0m\u001b[0mnumero2\u001b[0m \u001b[1;33m+\u001b[0m \u001b[1;36m1\u001b[0m\u001b[1;33m)\u001b[0m\u001b[1;33m\u001b[0m\u001b[0m\n\u001b[0m",
      "\u001b[1;31mTypeError\u001b[0m: Can't convert 'int' object to str implicitly"
     ]
    }
   ],
   "source": [
    "numero1 = 45852236\n",
    "numero2 = '45852236'\n",
    "\n",
    "# podemos realizar operaciones aritméticas entre números\n",
    "print(numero1 + 1)\n",
    "\n",
    "# pero no entre cadenas y números: esto da un error\n",
    "print(numero2 + 1)"
   ]
  },
  {
   "cell_type": "code",
   "execution_count": 15,
   "metadata": {
    "collapsed": false
   },
   "outputs": [
    {
     "name": "stdout",
     "output_type": "stream",
     "text": [
      "458522361\n",
      "¡Hola amigo!\n",
      "otra vez vez vez \n",
      "otravezvezvez\n"
     ]
    }
   ],
   "source": [
    "# sin embargo, sí puedo utilizar el operador '+' para concatenar varias cadenas\n",
    "print(numero2 + '1')\n",
    "print('¡Hola' + ' ' + 'amigo!')\n",
    "\n",
    "print(\"otra\", \"vez \" * 3)\n",
    "print(\"otra\" + \"vez\" * 3)"
   ]
  },
  {
   "cell_type": "markdown",
   "metadata": {},
   "source": [
    "### Conversión ente cadenas y enteros\n",
    "\n",
    "Otra manera de generar cadenas de texto es utilizando la función `str()` con un argumento que no sea una cadena. Fíjate en los ejemplos:"
   ]
  },
  {
   "cell_type": "code",
   "execution_count": 16,
   "metadata": {
    "collapsed": false
   },
   "outputs": [
    {
     "name": "stdout",
     "output_type": "stream",
     "text": [
      "<class 'int'>\n",
      "<class 'str'>\n",
      "\n",
      "Otros tipos de datos son:\n",
      "<class 'float'>\n",
      "<class 'bool'>\n",
      "<class 'str'>\n"
     ]
    }
   ],
   "source": [
    "# guardamos en numero1 un entero\n",
    "numero1 = 45852236\n",
    "# en numero2, guardamos el valor de numero1 convertido a cadena de texto con la función str()\n",
    "numero2 = str(numero1)\n",
    "\n",
    "# con la función type() imprimimos por pantalla el tipo de dato que guarda una variable\n",
    "print(type(numero1)) # es un entero: int\n",
    "print(type(numero2)) # es una cadena: str\n",
    "\n",
    "\n",
    "print(\"\\nOtros tipos de datos son:\")\n",
    "print(type(2.3))\n",
    "print(type(True))\n",
    "print(type(\"\"))"
   ]
  },
  {
   "cell_type": "markdown",
   "metadata": {},
   "source": [
    "Para hacer el paso contrario, es decir, transformar cadenas en enteros, podemos utilizar la función `int()`."
   ]
  },
  {
   "cell_type": "code",
   "execution_count": 17,
   "metadata": {
    "collapsed": false
   },
   "outputs": [
    {
     "name": "stdout",
     "output_type": "stream",
     "text": [
      "<class 'str'>\n",
      "<class 'int'>\n"
     ]
    },
    {
     "ename": "ValueError",
     "evalue": "invalid literal for int() with base 10: 'hola amigo'",
     "output_type": "error",
     "traceback": [
      "\u001b[1;31m---------------------------------------------------------------------------\u001b[0m",
      "\u001b[1;31mValueError\u001b[0m                                Traceback (most recent call last)",
      "\u001b[1;32m<ipython-input-17-cb93dd8bf99d>\u001b[0m in \u001b[0;36m<module>\u001b[1;34m()\u001b[0m\n\u001b[0;32m     11\u001b[0m \u001b[1;31m# esto no va a funcionar :-/ no podemos convertir cadenas a enteros\u001b[0m\u001b[1;33m\u001b[0m\u001b[1;33m\u001b[0m\u001b[0m\n\u001b[0;32m     12\u001b[0m \u001b[0motracosa\u001b[0m \u001b[1;33m=\u001b[0m \u001b[1;34m\"hola amigo\"\u001b[0m\u001b[1;33m\u001b[0m\u001b[0m\n\u001b[1;32m---> 13\u001b[1;33m \u001b[0mprint\u001b[0m\u001b[1;33m(\u001b[0m\u001b[0mint\u001b[0m\u001b[1;33m(\u001b[0m\u001b[0motracosa\u001b[0m\u001b[1;33m)\u001b[0m\u001b[1;33m)\u001b[0m\u001b[1;33m\u001b[0m\u001b[0m\n\u001b[0m",
      "\u001b[1;31mValueError\u001b[0m: invalid literal for int() with base 10: 'hola amigo'"
     ]
    }
   ],
   "source": [
    "# guardamos en numero1 una cadena\n",
    "numero1 = '45852236'\n",
    "# en numero2, guardamos el valor de numero1 convertido a entero con la función int()\n",
    "numero2 = int(numero1)\n",
    "\n",
    "# con la función type() imprimimos por pantalla el tipo de dato que guarda una variable\n",
    "\n",
    "print(type(numero1)) # es una cadena: str\n",
    "print(type(numero2)) # es un entero: int\n",
    "\n",
    "# esto no va a funcionar :-/ no podemos convertir cadenas a enteros\n",
    "otracosa = \"hola amigo\"\n",
    "print(int(otracosa))"
   ]
  },
  {
   "cell_type": "markdown",
   "metadata": {},
   "source": [
    "Recuerda, cualquier secuencia alfanumérica encerrada entre comillas será tratada como una cadena de caracteres (*string*) aunque esté formada únicamente por dígitos.\n",
    "\n",
    "\n",
    "### Métodos sobre cadenas\n",
    "\n",
    "Existe una serie de *funciones* y *metodos* que podemos ejecutar sobre cadenas de texto y que nos van a permitir realizar operaciones y transformar dichas cadenas de distintas maneras, p. ej.: \n",
    "\n",
    "- contar el número de caracteres de una cadena (`len()`) \n",
    "- transformar la cadena a mayúsculas (`.upper()`) o minúsculas (`.lower()`)\n",
    "\n",
    "Para más info, consulta [los métodos que podemos aplicar a las cadenas](http://rgruet.free.fr/PQR27/PQR2.7.html#stringMethods).\n"
   ]
  },
  {
   "cell_type": "code",
   "execution_count": 18,
   "metadata": {
    "collapsed": false
   },
   "outputs": [
    {
     "name": "stdout",
     "output_type": "stream",
     "text": [
      "20\n",
      "37\n",
      "387\n"
     ]
    }
   ],
   "source": [
    "print(len(nombre))\n",
    "print(len(oracion))\n",
    "print(len(parrafo))"
   ]
  },
  {
   "cell_type": "code",
   "execution_count": 19,
   "metadata": {
    "collapsed": false
   },
   "outputs": [
    {
     "name": "stdout",
     "output_type": "stream",
     "text": [
      "20\n",
      "green colorless ideas sleep furiously\n",
      "GREEN COLORLESS IDEAS SLEEP FURIOUSLY\n",
      "EN UN LUGAR DE LA MANCHA, DE CUYO NOMBRE NO QUIERO ACORDARME, \n",
      "NO HA MUCHO TIEMPO QUE VIVÍA UN \"HIDALGO\" DE LOS DE LANZA EN ASTILLERO, \n",
      "ADARGA ANTIGUA, ROCÍN FLACO Y GALGO CORREDOR. UNA OLLA DE ALGO MÁS VACA \n",
      "QUE CARNERO, SALPICÓN LAS MÁS NOCHES, DUELOS Y QUEBRANTOS LOS SÁBADOS, \n",
      "LENTEJAS LOS VIERNES, ALGÚN PALOMINO DE AÑADIDURA LOS DOMINGOS, CONSUMÍAN \n",
      "LAS TRES PARTES DE SU HACIENDA.\n",
      "En un lugar de la Mancha, de cuyo nombre no quiero acordarme, \n",
      "no ha mucho tiempo que vivía un \"hidalgo\" de los de lanza en astillero, \n",
      "adarga antigua, rocín flaco y galgo corredor. Una olla de algo más vaca \n",
      "que carnero, salpicón las más noches, duelos y quebrantos los sábados, \n",
      "lentejas los viernes, algún palomino de añadidura los domingos, consumían \n",
      "las tres partes de su hacienda.\n",
      "aBcDeFgHiJkLmNñOpQrStUvWxYz\n",
      "ÁÉÍÓÚÜÛáéíóúûü\n"
     ]
    }
   ],
   "source": [
    "print(len(nombre)) # devuelve la longitud (en número de caracteres) de una cadena\n",
    "\n",
    "print(oracion.lower()) # transforma una cadena a minúsculas (lowercas)\n",
    "print(oracion)\n",
    "\n",
    "print(parrafo.upper()) # transforma una cadena a mayúsculas (uppercas)\n",
    "print(parrafo) #\n",
    "\n",
    "print('AbCdEfGhIjKlMnÑoPqRsTuVwXyZ'.swapcase()) # transforma mayúsculas a minúsculas y viceversa\n",
    "\n",
    "# incluso funciona con las letras con diacríticos\n",
    "print(\"áéíóúüûÁÉÍÓÚÛÜ\".swapcase())"
   ]
  },
  {
   "cell_type": "markdown",
   "metadata": {},
   "source": [
    "# Listas\n",
    "\n",
    "Las **listas** de Python son una estructura de datos que almacenan una colección de diferentes tipos de información en forma de secuencia ordenada, bajo un solo nombre de variable. Las listas pueden guardar valores de cualquiera de los tipos que hemos visto anteriormente (cadenas, números y booleanos) e incluso **las listas pueden incluir otras listas de manera anidada**.\n",
    "\n",
    "Las listas se declaran especificando la colección de elementos entre corchetes y separando los elementos con comas:"
   ]
  },
  {
   "cell_type": "code",
   "execution_count": 20,
   "metadata": {
    "collapsed": false
   },
   "outputs": [
    {
     "name": "stdout",
     "output_type": "stream",
     "text": [
      "[1, 2, 3, 4, 5, 6, 7, 8, 9, 10]\n",
      "['lunes', 'martes', 'miércoles', 'jueves', 'viernes', 'sábado', 'domingo']\n",
      "[23.4, True, 'green colorless ideas sleep furiously', 20]\n",
      "[]\n",
      "<class 'list'>\n",
      "10\n",
      "4\n"
     ]
    }
   ],
   "source": [
    "numeros = [1, 2, 3, 4, 5, 6, 7, 8, 9, 10]\n",
    "dias = [\"lunes\", \"martes\", \"miércoles\", \"jueves\", \"viernes\", \"sábado\", \"domingo\"]\n",
    "misCosas = [23.4, True, oracion.lower(), len(nombre)]\n",
    "listaVacia = []\n",
    "\n",
    "# los imprimimos por pantalla\n",
    "print(numeros)\n",
    "print(dias)\n",
    "print(misCosas)\n",
    "print(listaVacia)\n",
    "\n",
    "print(type(numeros))\n",
    "print(len(numeros))\n",
    "print(len(misCosas))"
   ]
  },
  {
   "cell_type": "markdown",
   "metadata": {},
   "source": [
    "Las listas son estructuras de datos ordenadas, lo que implica que podemos acceder a los elementos individuales a través de un índice (la posición  que ocupa en la secuencia). El índice se especifica indicando el nombre de la lista y un entero entre corchetes: `nombre_de_lista[índice]`.\n",
    "\n",
    "¡OJO! Los índices de las listas comienzan con 0, no con 1: el primer elemento es `nombre_de_lista[0]`. "
   ]
  },
  {
   "cell_type": "code",
   "execution_count": 21,
   "metadata": {
    "collapsed": false
   },
   "outputs": [
    {
     "name": "stdout",
     "output_type": "stream",
     "text": [
      "el primer día de la semana es lunes\n",
      "el tercer día de la semana es miércoles\n",
      "y el último es domingo\n",
      "el tercer día de la semana es miércoles y el sexto día es sábado\n",
      "el tercer día de la semana es miércoles y el sexto día es sábado\n",
      "[44, True, 'green colorless ideas sleep furiously', 20]\n"
     ]
    },
    {
     "ename": "IndexError",
     "evalue": "list index out of range",
     "output_type": "error",
     "traceback": [
      "\u001b[1;31m---------------------------------------------------------------------------\u001b[0m",
      "\u001b[1;31mIndexError\u001b[0m                                Traceback (most recent call last)",
      "\u001b[1;32m<ipython-input-21-92bd41005ac7>\u001b[0m in \u001b[0;36m<module>\u001b[1;34m()\u001b[0m\n\u001b[0;32m     13\u001b[0m \u001b[1;33m\u001b[0m\u001b[0m\n\u001b[0;32m     14\u001b[0m \u001b[1;31m# ¡OJO! si intentamos acceder a un índice que no existe, el intérprete nos dará error\u001b[0m\u001b[1;33m\u001b[0m\u001b[1;33m\u001b[0m\u001b[0m\n\u001b[1;32m---> 15\u001b[1;33m \u001b[0mprint\u001b[0m\u001b[1;33m(\u001b[0m\u001b[0mmisCosas\u001b[0m\u001b[1;33m[\u001b[0m\u001b[1;36m8\u001b[0m\u001b[1;33m]\u001b[0m\u001b[1;33m)\u001b[0m\u001b[1;33m\u001b[0m\u001b[0m\n\u001b[0m",
      "\u001b[1;31mIndexError\u001b[0m: list index out of range"
     ]
    }
   ],
   "source": [
    "print('el primer día de la semana es', dias[0])\n",
    "print('el tercer día de la semana es ' + dias[2])\n",
    "print('y el último es', dias[-1])\n",
    "\n",
    "print('el tercer día de la semana es ' + dias[2] + ' y el sexto día es ' + dias[-2])\n",
    "print('el tercer día de la semana es', dias[2], 'y el sexto día es', dias[-2])\n",
    "\n",
    "\n",
    "# podemos utilizar los índices también para reasignar valores a los elementos de una lista\n",
    "# p. ej., cambiamos el primer valor de la lista misCosas\n",
    "misCosas[0] = 44\n",
    "print(misCosas)\n",
    "\n",
    "# ¡OJO! si intentamos acceder a un índice que no existe, el intérprete nos dará error\n",
    "print(misCosas[8])"
   ]
  },
  {
   "cell_type": "markdown",
   "metadata": {},
   "source": [
    "Podemos acceder a *porciones de una lista* usando una notación especial en los corchetes del índice. `nombre_de_lista[n:m]` devuelve la secuencia de elementos de la lista que va desde el índice *n* hasta el *m*."
   ]
  },
  {
   "cell_type": "code",
   "execution_count": 22,
   "metadata": {
    "collapsed": false
   },
   "outputs": [
    {
     "name": "stdout",
     "output_type": "stream",
     "text": [
      "['lunes', 'martes', 'miércoles']\n",
      "[3, 4, 5, 6]\n",
      "[8, 9]\n",
      "['jueves', 'viernes']\n"
     ]
    }
   ],
   "source": [
    "# imprime los tres primeros elementos de la variable dias\n",
    "print(dias[:3])\n",
    "# imprime elementos del 3º al 6ª de la variable números\n",
    "print(numeros[2:6])\n",
    "# imprime los tres últimos números de la variable números\n",
    "print(numeros[-3:-1])\n",
    "\n",
    "print(dias[3:5])"
   ]
  },
  {
   "cell_type": "markdown",
   "metadata": {},
   "source": [
    "Las cadenas, al igual que las listas, son estructuras ordenadas. No lo hemos mencionado antes, pero podemos utilizar esta misma notación de índices para acceder a elementos y a porciones de una cadena."
   ]
  },
  {
   "cell_type": "code",
   "execution_count": 23,
   "metadata": {
    "collapsed": false
   },
   "outputs": [
    {
     "name": "stdout",
     "output_type": "stream",
     "text": [
      "perro\n",
      "gato\n",
      "rana\n"
     ]
    }
   ],
   "source": [
    "cadena = 'perrogatorana'\n",
    "print(cadena[:5])\n",
    "print(cadena[5:9])\n",
    "print(cadena[-4:])\n",
    "\n",
    "# practica los índices en listas y en cadenas, es muy importante tener solutura"
   ]
  },
  {
   "cell_type": "code",
   "execution_count": 24,
   "metadata": {
    "collapsed": false
   },
   "outputs": [
    {
     "name": "stdout",
     "output_type": "stream",
     "text": [
      "False\n",
      "True\n",
      "False\n",
      "True\n",
      "True\n",
      "False\n",
      "---------------------\n",
      "False\n",
      "True\n",
      "False\n",
      "True\n",
      "True\n",
      "False\n"
     ]
    }
   ],
   "source": [
    "pal1 = 'perro'\n",
    "pal2 = 'soles'\n",
    "pal3 = 'azul'\n",
    "pal4 = 'amigos'\n",
    "pal5 = 'cafés'\n",
    "pal6 = 'hola'\n",
    "\n",
    "print(pal1[-1] == 's')\n",
    "print(pal2[-1] == 's')\n",
    "print(pal3[-1] == 's')\n",
    "print(pal4[-1] == 's')\n",
    "print(pal5[-1] == 's')\n",
    "print(pal6[-1] == 's')\n",
    "\n",
    "print(\"---------------------\")\n",
    "\n",
    "print(pal1.endswith('s'))\n",
    "print(pal2.endswith('s'))\n",
    "print(pal3.endswith('s'))\n",
    "print(pal4.endswith('s'))\n",
    "print(pal5.endswith('s'))\n",
    "print(pal6.endswith('s'))"
   ]
  },
  {
   "cell_type": "markdown",
   "metadata": {},
   "source": [
    "## Métodos sobre listas\n",
    "\n",
    "Como con las cadenas, en las listas existen una serie de *funciones* y *métodos* que podemos ejecutar y que nos van a permitir realizar operaciones y transformar dichas listas de distintas maneras, p. ej.:\n",
    "\n",
    "- podemos contar el número de elementos de una lista con la función `len()`.\n",
    "- podemos buscar elementos en una lista sin saber la posición concreta que ocupan con el método `.index()`.  \n",
    "- podemos añadir nuevos elementos al final de una lista con el método `.append()`.\n",
    "- podemos añadir nuevos elementos en una posición concreta de una lista con el método `.insert()`.\n",
    "- podemos eliminar elementos de una lista con los métodos `.remove()` y  `.pop()`.\n",
    "- podemos concatenar una lista con otra con el método `.extend()`.\n",
    "\n",
    "Para más info, consulta los [métodos que podemos aplicar a las listas](http://rgruet.free.fr/PQR27/PQR2.7.html#list)."
   ]
  },
  {
   "cell_type": "code",
   "execution_count": 25,
   "metadata": {
    "collapsed": false
   },
   "outputs": [
    {
     "name": "stdout",
     "output_type": "stream",
     "text": [
      "0\n"
     ]
    }
   ],
   "source": [
    "# creamos una lista vacía\n",
    "miLista = []\n",
    "# ¿está realmente vacía?\n",
    "print(len(miLista))"
   ]
  },
  {
   "cell_type": "code",
   "execution_count": 26,
   "metadata": {
    "collapsed": false
   },
   "outputs": [
    {
     "name": "stdout",
     "output_type": "stream",
     "text": [
      "3\n",
      "6\n"
     ]
    },
    {
     "ename": "ValueError",
     "evalue": "'DOMINGO' is not in list",
     "output_type": "error",
     "traceback": [
      "\u001b[1;31m---------------------------------------------------------------------------\u001b[0m",
      "\u001b[1;31mValueError\u001b[0m                                Traceback (most recent call last)",
      "\u001b[1;32m<ipython-input-26-5564dee653e9>\u001b[0m in \u001b[0;36m<module>\u001b[1;34m()\u001b[0m\n\u001b[0;32m      4\u001b[0m \u001b[1;33m\u001b[0m\u001b[0m\n\u001b[0;32m      5\u001b[0m \u001b[1;31m# esto, sin embargo, dará error\u001b[0m\u001b[1;33m\u001b[0m\u001b[1;33m\u001b[0m\u001b[0m\n\u001b[1;32m----> 6\u001b[1;33m \u001b[0mprint\u001b[0m\u001b[1;33m(\u001b[0m\u001b[0mdias\u001b[0m\u001b[1;33m.\u001b[0m\u001b[0mindex\u001b[0m\u001b[1;33m(\u001b[0m\u001b[1;34m'DOMINGO'\u001b[0m\u001b[1;33m)\u001b[0m\u001b[1;33m)\u001b[0m\u001b[1;33m\u001b[0m\u001b[0m\n\u001b[0m",
      "\u001b[1;31mValueError\u001b[0m: 'DOMINGO' is not in list"
     ]
    }
   ],
   "source": [
    "# ¿qué posición ocupa \"jueves\" o \"domingo\" en la lista días\n",
    "print(dias.index('jueves'))\n",
    "print(dias.index('domingo'))\n",
    "\n",
    "# esto, sin embargo, dará error\n",
    "print(dias.index('DOMINGO'))"
   ]
  },
  {
   "cell_type": "code",
   "execution_count": 27,
   "metadata": {
    "collapsed": false
   },
   "outputs": [
    {
     "name": "stdout",
     "output_type": "stream",
     "text": [
      "[2]\n",
      "[2, 'palabra']\n",
      "[2, 'palabra', 15625]\n"
     ]
    }
   ],
   "source": [
    "miLista = []\n",
    "\n",
    "# añadimos varios elementos nuevos y vemos cómo va aumentando la lista\n",
    "miLista.append(2)\n",
    "print(miLista)\n",
    "\n",
    "miLista.append('palabra')\n",
    "print(miLista)\n",
    "\n",
    "miLista.append(25**3)\n",
    "print(miLista)"
   ]
  },
  {
   "cell_type": "code",
   "execution_count": 28,
   "metadata": {
    "collapsed": false
   },
   "outputs": [
    {
     "name": "stdout",
     "output_type": "stream",
     "text": [
      "[2, 'palabra', 15625, [1, 2, 3, 4, 5, 6, 7, 8, 9, 10]]\n",
      "4\n"
     ]
    }
   ],
   "source": [
    "# añadimos como cuarto elemento otra lista de elementos: fíjate en la estructura del resultado\n",
    "miLista.append(numeros)\n",
    "print(miLista)\n",
    "print(len(miLista))\n"
   ]
  },
  {
   "cell_type": "code",
   "execution_count": 29,
   "metadata": {
    "collapsed": false
   },
   "outputs": [
    {
     "name": "stdout",
     "output_type": "stream",
     "text": [
      "la lista miLista tiene 4 elementos\n",
      "la lista miLista tiene 4 elementos\n"
     ]
    }
   ],
   "source": [
    "# ¿cuántos elementos tiene miLista?\n",
    "\n",
    "# estas dos líneas son equivalentes, pero tienen sutiles diferencias.\n",
    "# aquí, concatenamos con el símbolo + tres cadenas dentro de una misma intrucción print\n",
    "# uno de los elementos es originariamente un número entero, por eso hay que transformarlo antes con str\n",
    "print('la lista miLista tiene ' + str(len(miLista)) + ' elementos')\n",
    "\n",
    "# aquí, imprimimos tres elementos diferentes en una misma instrucción print\n",
    "print('la lista miLista tiene', len(miLista), 'elementos')"
   ]
  },
  {
   "cell_type": "code",
   "execution_count": 30,
   "metadata": {
    "collapsed": false
   },
   "outputs": [
    {
     "name": "stdout",
     "output_type": "stream",
     "text": [
      "[2, 'palabra', 15625, [1, 2, 3, 4, 5, 6, 7, 8, 9, 10]]\n",
      "[2, 'segundo elemento', 'palabra', 15625, [1, 2, 3, 4, 5, 6, 7, 8, 9, 10]]\n",
      "[2, 'second element', 'palabra', 15625, [1, 2, 3, 4, 5, 6, 7, 8, 9, 10]]\n"
     ]
    }
   ],
   "source": [
    "print(miLista)\n",
    "\n",
    "# insertamos como segundo elemento otro nuevo valor\n",
    "miLista.insert(1, 'segundo elemento')\n",
    "print(miLista)\n",
    "\n",
    "miLista[1] = \"second element\"\n",
    "print(miLista)"
   ]
  },
  {
   "cell_type": "code",
   "execution_count": 31,
   "metadata": {
    "collapsed": false
   },
   "outputs": [
    {
     "name": "stdout",
     "output_type": "stream",
     "text": [
      "[]\n",
      "['hola']\n",
      "['hola', 'adiós']\n",
      "['hola', 'segundo elemento', 'adiós']\n",
      "['hola', 'segundo elemento', 'otra cosa', 'adiós']\n"
     ]
    }
   ],
   "source": [
    "# más ejemplos con los métodos insert y append\n",
    "l = []\n",
    "print(l)\n",
    "\n",
    "l.append('hola')\n",
    "print(l)\n",
    "\n",
    "l.append('adiós')\n",
    "print(l)\n",
    "\n",
    "l.insert(1, 'segundo elemento')\n",
    "print(l)\n",
    "\n",
    "l.insert(2, 'otra cosa')\n",
    "print(l)"
   ]
  },
  {
   "cell_type": "code",
   "execution_count": 32,
   "metadata": {
    "collapsed": false
   },
   "outputs": [
    {
     "name": "stdout",
     "output_type": "stream",
     "text": [
      "['lunes', 'martes', 'miércoles', 'jueves', 'viernes', 'sábado', 'domingo']\n",
      "['lunes', 'martes', 'jueves', 'viernes', 'sábado', 'domingo']\n"
     ]
    }
   ],
   "source": [
    "dias = [\"lunes\", \"martes\", \"miércoles\", \"jueves\", \"viernes\", \"sábado\", \"domingo\"]\n",
    "numeros = [1, 2, 3, 4, 5, 6, 7, 8, 9, 10]\n",
    "\n",
    "print(dias)\n",
    "\n",
    "# eliminarmos el elemento 2 y el elemento \"palabra\" de miLista\n",
    "dias.pop(2)\n",
    "print(dias)"
   ]
  },
  {
   "cell_type": "code",
   "execution_count": 33,
   "metadata": {
    "collapsed": false
   },
   "outputs": [
    {
     "name": "stdout",
     "output_type": "stream",
     "text": [
      "['lunes', 'martes', 'jueves', 'viernes', 'domingo']\n"
     ]
    }
   ],
   "source": [
    "dias.remove('sábado')\n",
    "print(dias)"
   ]
  },
  {
   "cell_type": "code",
   "execution_count": 34,
   "metadata": {
    "collapsed": false
   },
   "outputs": [
    {
     "name": "stdout",
     "output_type": "stream",
     "text": [
      "0\n",
      "['b', 'c', 'a']\n",
      "1\n"
     ]
    }
   ],
   "source": [
    "letras = ['a', 'b', 'c', 'a']\n",
    "print(letras.count('aaaaa'))\n",
    "\n",
    "letras.remove('a')\n",
    "print(letras)\n",
    "print(letras.count('a'))"
   ]
  },
  {
   "cell_type": "code",
   "execution_count": 35,
   "metadata": {
    "collapsed": false
   },
   "outputs": [
    {
     "name": "stdout",
     "output_type": "stream",
     "text": [
      "[2, 'second element', 'palabra', 15625]\n"
     ]
    }
   ],
   "source": [
    "# también puedo eliminar el último elemento de la lista\n",
    "miLista.pop(-1)\n",
    "print(miLista)"
   ]
  },
  {
   "cell_type": "code",
   "execution_count": 36,
   "metadata": {
    "collapsed": false
   },
   "outputs": [
    {
     "name": "stdout",
     "output_type": "stream",
     "text": [
      "['lunes', 'martes', 'miércoles', 'jueves', 'viernes', 'sábado', 'domingo', 1, 2, 3, 4, 5, 6, 7, 8, 9, 10]\n",
      "[1, 2, 3, 4, 5, 6, 7, 8, 9, 10, 'lunes', 'martes', 'miércoles', 'jueves', 'viernes', 'sábado', 'domingo', 1, 2, 3, 4, 5, 6, 7, 8, 9, 10]\n"
     ]
    }
   ],
   "source": [
    "# más pruebas concatenando listas\n",
    "dias = [\"lunes\", \"martes\", \"miércoles\", \"jueves\", \"viernes\", \"sábado\", \"domingo\"]\n",
    "dias.extend(numeros)\n",
    "print(dias)\n",
    "\n",
    "# fíjate en que la lista numeros crece de manera indefinida\n",
    "numeros.extend(dias)\n",
    "print(numeros)"
   ]
  },
  {
   "cell_type": "markdown",
   "metadata": {},
   "source": [
    "# Tuplas\n",
    "\n",
    "Las **tuplas** de Python son una estructura de datos que almacenan una colección de diferentes tipos de información en forma de secuencia ordenada. Estas tuplas pueden guardar valores de cualquiera de los tipos que hemos visto anteriormente (cadenas, números y booleanos) e incluso otras listas o tuplas de manera anidada. La principal diferencia con las listas es que **las tuplas son inmutables**: no podemos modificarlas, ni añadiendo o eliminando elementos, ni reordenado, etc. \n",
    "\n",
    "Las tuplas se declaran especificando la colección de elementos entre paréntesis y separando los elementos con comas."
   ]
  },
  {
   "cell_type": "code",
   "execution_count": 37,
   "metadata": {
    "collapsed": false
   },
   "outputs": [
    {
     "name": "stdout",
     "output_type": "stream",
     "text": [
      "[('Carlos', 'Pujol', 'H'), ('Montse', 'Santos', 'M'), ('Ana', 'Ruiz', 'M')]\n",
      "3\n",
      "Santos\n"
     ]
    }
   ],
   "source": [
    "# creo tres tripletas, cada una almacenando el nombre, apellido y sexo de unas personas ficticias\n",
    "tripleta1 = (\"Carlos\", \"Pujol\", \"H\")\n",
    "tripleta2 = (\"Montse\", \"Santos\", \"M\")\n",
    "tripleta3 = (\"Ana\", \"Ruiz\", \"M\")\n",
    "\n",
    "# creo una lista de personas y añado las tripletas por orden\n",
    "personas = []\n",
    "personas.append(tripleta1)\n",
    "personas.append(tripleta2)\n",
    "personas.append(tripleta3)\n",
    "print(personas)\n",
    "\n",
    "# las tuplas son secuencias ordenadas, y como tales podemos acceder a sus elementos\n",
    "# a través de índices numéricos\n",
    "print(len(personas[0]))\n",
    "print(personas[1][1])"
   ]
  },
  {
   "cell_type": "markdown",
   "metadata": {},
   "source": [
    "# Diccionarios\n",
    "\n",
    "Los **diccionarios** de Python son una estructura de datos que almacena una colección de pares *clave:valor*. La clave es siempre una cadena, y el valor puede contener cualquiera de los tipos que hemos visto anteriormente (cadenas, números y booleanos) e incluso otras listas, tuplas o diccionarios de manera anidada. Al contrario que las listas y las tuplas, los diccionarios no son estructuras ordenadas. Por lo tanto, nos interesará utilizar diccionarios cuando necesitamos almacenar y acceder directamente a información cuyo nombre conozcamos.\n",
    "\n",
    "Podemos definir diccionarios de varias maneras:"
   ]
  },
  {
   "cell_type": "code",
   "execution_count": 38,
   "metadata": {
    "collapsed": false
   },
   "outputs": [
    {
     "name": "stdout",
     "output_type": "stream",
     "text": [
      "{'nombre': 'Victor', 'edad': 38, 'apellido': 'Peinado', 'sexo': 'H'}\n",
      "{'nombre': 'Antonio', 'edad': 26, 'apellido': 'Santos', 'sexo': 'H'}\n",
      "[{'nombre': 'Victor', 'edad': 38, 'apellido': 'Peinado', 'sexo': 'H'}, {'nombre': 'Antonio', 'edad': 26, 'apellido': 'Santos', 'sexo': 'H'}]\n",
      "<class 'list'>\n",
      "<class 'dict'>\n",
      "<class 'int'>\n"
     ]
    }
   ],
   "source": [
    "# entre llaves, separando claves y valores con dos puntos, y separando pares con comas\n",
    "victor = {\"nombre\": \"Victor\", \"apellido\": \"Peinado\", \"sexo\": \"H\", \"edad\": 38}\n",
    "print(victor)\n",
    "\n",
    "# declarando el diccionario como una estructura vacía y añadiendo los pares clave:valor después\n",
    "antonio = {}\n",
    "antonio[\"nombre\"] = \"Antonio\"\n",
    "antonio[\"apellido\"] = \"Santos\"\n",
    "antonio[\"sexo\"] = \"H\"\n",
    "antonio[\"edad\"] = 26\n",
    "print(antonio)\n",
    "\n",
    "# creo una lista de diccionarios: OJO, la lista sí está ordenada\n",
    "personas = [victor, antonio]\n",
    "print(personas)\n",
    "\n",
    "print(type(personas))\n",
    "print(type(personas[-1]))\n",
    "print(type(personas[-1][\"edad\"]))"
   ]
  },
  {
   "cell_type": "markdown",
   "metadata": {},
   "source": [
    "Podemos acceder a los elementos del diccionaro a través del nombre de la clave:"
   ]
  },
  {
   "cell_type": "code",
   "execution_count": 39,
   "metadata": {
    "collapsed": false
   },
   "outputs": [
    {
     "name": "stdout",
     "output_type": "stream",
     "text": [
      "Victor\n",
      "Santos\n",
      "Antonio\n"
     ]
    }
   ],
   "source": [
    "print(victor['nombre'])\n",
    "\n",
    "print(antonio['apellido'])\n",
    "\n",
    "print(personas[1]['nombre'])"
   ]
  },
  {
   "cell_type": "markdown",
   "metadata": {},
   "source": [
    "## Métodos sobre diccionarios\n",
    "\n",
    "Como con otras estructuras de datos, los diccionarios proporcionan una serie de *funciones* y *métodos* que podemos ejecutar y que nos van a permitir manipular y acceder a dichos diccionarios de distintas maneras, p. ej.:\n",
    "\n",
    "- podemos contar el número de elementos de una diccionario la función `len()`.\n",
    "- podemos recuperar una lista conteniendo las claves de un diccionario con el método `.keys()`.\n",
    "- podemos recuperar una lista conteniendo los valores de un diccionario con el método `.values()`.\n",
    "- podemos eliminar un elemento de un diccionario con el método `.pop()`.\n",
    "\n",
    "Para más info, consulta los [métodos que podemos aplicar a los diccionarios](http://rgruet.free.fr/PQR27/PQR2.7.html#dictionary)."
   ]
  },
  {
   "cell_type": "code",
   "execution_count": 40,
   "metadata": {
    "collapsed": false
   },
   "outputs": [
    {
     "name": "stdout",
     "output_type": "stream",
     "text": [
      "4\n",
      "dict_keys(['nombre', 'edad', 'apellido', 'sexo'])\n",
      "dict_values(['Antonio', 26, 'Santos', 'H'])\n"
     ]
    }
   ],
   "source": [
    "# ¿cuántos pares clave:valor tiene el diccionario antonio?\n",
    "print(len(antonio))\n",
    "\n",
    "# dame las claves\n",
    "print(antonio.keys())\n",
    "\n",
    "# dame los valores\n",
    "print(antonio.values())"
   ]
  },
  {
   "cell_type": "code",
   "execution_count": 41,
   "metadata": {
    "collapsed": false
   },
   "outputs": [
    {
     "name": "stdout",
     "output_type": "stream",
     "text": [
      "False\n",
      "True\n",
      "{'nombre': 'Antonio', 'edad': 26, 'apellido': 'Santos', 'sexo': 'H', 'altura': 1.79}\n"
     ]
    }
   ],
   "source": [
    "# recuerda que para crear nuevos pares clave:valor, basta con asignarles un valor\n",
    "antonio['altura'] = 1.79\n",
    "\n",
    "# podemos comprobar si el diccionario tiene determinadas claves\n",
    "print('email' in antonio)\n",
    "print('altura' in antonio)\n",
    "print(antonio)"
   ]
  },
  {
   "cell_type": "code",
   "execution_count": 42,
   "metadata": {
    "collapsed": false
   },
   "outputs": [
    {
     "name": "stdout",
     "output_type": "stream",
     "text": [
      "False\n",
      "{'nombre': 'Antonio', 'edad': 26, 'apellido': 'Santos', 'sexo': 'H'}\n"
     ]
    }
   ],
   "source": [
    "# eliminamos la clave altura de antonio\n",
    "antonio.pop('altura') \n",
    "print('altura' in antonio) # y esto ahora devuelve False\n",
    "print(antonio)"
   ]
  },
  {
   "cell_type": "markdown",
   "metadata": {},
   "source": [
    "Los diccionarios pueden contener otros diccionarios anidados, lo que conlleva que podemos manejar estructuras bastante complejas. A modo de ejemplo:"
   ]
  },
  {
   "cell_type": "code",
   "execution_count": 43,
   "metadata": {
    "collapsed": false
   },
   "outputs": [
    {
     "name": "stdout",
     "output_type": "stream",
     "text": [
      "{'madre': {'nombre': 'Mommy', 'apellido': 'Pig', 'email': 'mommy@pig.com'}, 'hijo': {'nombre': 'George', 'apellido': 'Pig', 'email': 'george@pig.com'}, 'hija': {'nombre': 'Peppa', 'apellido': 'Pig', 'email': 'peppa@pig.com'}, 'padre': {'nombre': 'Daddy', 'apellido': 'Pig', 'email': 'daddy@pig.com'}}\n"
     ]
    }
   ],
   "source": [
    "# creo un diccionario de la familia Pig, en principio vacío\n",
    "familiaPig = {}\n",
    "\n",
    "# creo varios diccionarios por cada miembro de la familia\n",
    "peppa = {\"nombre\": \"Peppa\", \"apellido\": \"Pig\", \"email\": \"peppa@pig.com\",}\n",
    "george = {\"nombre\": \"George\", \"apellido\": \"Pig\", \"email\": \"george@pig.com\",}\n",
    "daddy = {\"nombre\": \"Daddy\", \"apellido\": \"Pig\", \"email\": \"daddy@pig.com\",}\n",
    "mommy = {\"nombre\": \"Mommy\", \"apellido\": \"Pig\", \"email\": \"mommy@pig.com\",}\n",
    "\n",
    "\n",
    "familiaPig['hija'] = peppa\n",
    "familiaPig['hijo'] = george\n",
    "familiaPig['padre'] = daddy\n",
    "familiaPig['madre'] = mommy\n",
    "\n",
    "print(familiaPig)"
   ]
  },
  {
   "cell_type": "code",
   "execution_count": 44,
   "metadata": {
    "collapsed": false
   },
   "outputs": [
    {
     "name": "stdout",
     "output_type": "stream",
     "text": [
      "mommy@pig.com\n",
      "Peppa\n",
      "daddy@pig.com\n",
      "George\n"
     ]
    }
   ],
   "source": [
    "# ¿Cuál es el email de la madre?\n",
    "print(familiaPig[\"madre\"][\"email\"])\n",
    "\n",
    "# ¿Y el nombre de la hija?\n",
    "print(familiaPig[\"hija\"][\"nombre\"])\n",
    "\n",
    "# en lugar de un diccionario, puedo crear también una lista con los miembros de la familia ordenados por edad\n",
    "familia = [daddy, mommy, peppa, george]\n",
    "\n",
    "# ahora solo puedo acceder por índices, así que ¿cuál es el email del primer miembro de la familia?\n",
    "print(familia[0][\"email\"])\n",
    "\n",
    "# ¿Y el nombre del miembro más joven?\n",
    "print(familia[-1][\"nombre\"])"
   ]
  },
  {
   "cell_type": "code",
   "execution_count": 45,
   "metadata": {
    "collapsed": false
   },
   "outputs": [
    {
     "data": {
      "image/jpeg": "[encoded data removed]",
      "text/plain": [
       "<IPython.core.display.Image object>"
      ]
     },
     "execution_count": 45,
     "metadata": {},
     "output_type": "execute_result"
    }
   ],
   "source": [
    "# esta celda no hace nada, salvo insertar una imagen externa\n",
    "from IPython.core.display import Image\n",
    "Image('http://peppapigjuegos.com/img/wallpapers/2pag/peppa_pig_family.jpg')"
   ]
  },
  {
   "cell_type": "markdown",
   "metadata": {},
   "source": [
    "### Ejercicio final en clase\n",
    "\n",
    "En clase se nos ocurre cómo podemos crearnos lista de películas y series de televisión que nos gustan. Definimos *fichas* de películas y series usando diccionarios."
   ]
  },
  {
   "cell_type": "code",
   "execution_count": 46,
   "metadata": {
    "collapsed": false
   },
   "outputs": [
    {
     "name": "stdout",
     "output_type": "stream",
     "text": [
      "{'titulo': 'The Arrival', 'reparto': ['Amy Adams', 'Jeremy Renner', 'Forest Whitaker'], 'ano': 2016, 'esBuena': True}\n",
      "----------------------------\n",
      "La película se titula The Arrival .\n",
      "La película tiene3actores.\n",
      "La película se titula The Arrival y tiene 3 actores.\n",
      "{'titulo': 'Narcos', 'reparto': ['Uno', 'Otro'], 'ano': 2015}\n",
      "Narcos\n",
      "{'titulo': 'Narcos', 'reparto': ['Uno', 'Otro'], 'ano': 2015, 'esBuena': True}\n"
     ]
    }
   ],
   "source": [
    "pelicula = {}\n",
    "pelicula['titulo'] = \"The Arrival\"\n",
    "pelicula['ano'] = 2016\n",
    "pelicula['reparto'] = [\"Amy Adams\", \"Jeremy Renner\", \"Forest Whitaker\",]\n",
    "pelicula['esBuena'] = True\n",
    "\n",
    "print(pelicula)\n",
    "\n",
    "print(\"----------------------------\")\n",
    "# imprime el título\n",
    "print(\"La película se titula\", pelicula['titulo'], \".\")\n",
    "# y más datos asociados a la peli\n",
    "print(\"La película tiene\" + str(len(pelicula[\"reparto\"])) + \"actores\" + \".\")\n",
    "\n",
    "# normalmente no necesitaremos esto, pero aquí hay un ejemplo de cómo formatear \n",
    "# cadenas complejas con print\n",
    "print(\"La película se titula {} y tiene {} actores.\".format(pelicula[\"titulo\"], len(pelicula[\"reparto\"])))\n",
    "\n",
    "# creamos una ficha para una serie\n",
    "serie = {\"titulo\": \"Narcos\", \"ano\":2015, \"reparto\":[\"Uno\", \"Otro\"]}\n",
    "print(serie)\n",
    "print(serie[\"titulo\"])\n",
    "# añadimos más datos\n",
    "serie[\"esBuena\"] = True\n",
    "print(serie)"
   ]
  },
  {
   "cell_type": "markdown",
   "metadata": {},
   "source": [
    "Para simular una colección de películas y series vistas en orden cronológico, creo un lista de Pyhton en la que voy incluyendo las fichas de películas a medida que las voy viendo."
   ]
  },
  {
   "cell_type": "code",
   "execution_count": 47,
   "metadata": {
    "collapsed": false
   },
   "outputs": [
    {
     "name": "stdout",
     "output_type": "stream",
     "text": [
      "[{'titulo': 'Narcos', 'reparto': ['Uno', 'Otro'], 'ano': 2015, 'esBuena': True}]\n",
      "[{'titulo': 'Narcos', 'reparto': ['Uno', 'Otro'], 'ano': 2015, 'esBuena': True}, {'titulo': 'The Arrival', 'reparto': ['Amy Adams', 'Jeremy Renner', 'Forest Whitaker'], 'ano': 2016, 'esBuena': True}]\n",
      "[{'titulo': 'Narcos', 'reparto': ['Uno', 'Otro'], 'ano': 2015, 'esBuena': True}, {'titulo': 'The Arrival', 'reparto': ['Amy Adams', 'Jeremy Renner', 'Forest Whitaker'], 'ano': 2016, 'esBuena': True}, {'titulo': 'The Expanse', 'reparto': ['Fulano', 'Mengano'], 'ano': 2015}]\n"
     ]
    }
   ],
   "source": [
    "coleccion = []\n",
    "coleccion.append(serie)\n",
    "print(coleccion)\n",
    "\n",
    "coleccion.append(pelicula)\n",
    "print(coleccion)\n",
    "\n",
    "# añado una tercera serie, y la meto en la colección\n",
    "serie = {\"titulo\": \"The Expanse\", \"ano\":2015, \"reparto\":[\"Fulano\", \"Mengano\"]}\n",
    "coleccion.append(serie)\n",
    "print(coleccion)"
   ]
  }
 ],
 "metadata": {
  "kernelspec": {
   "display_name": "Python 3",
   "language": "python",
   "name": "python3"
  },
  "language_info": {
   "codemirror_mode": {
    "name": "ipython",
    "version": 3
   },
   "file_extension": ".py",
   "mimetype": "text/x-python",
   "name": "python",
   "nbconvert_exporter": "python",
   "pygments_lexer": "ipython3",
   "version": "3.4.3+"
  }
 },
 "nbformat": 4,
 "nbformat_minor": 0
}
