{
 "cells": [
  {
   "cell_type": "markdown",
   "metadata": {},
   "source": [
    "# Interactuando con Twitter\n",
    "\n",
    "\n",
    "## Introducción\n",
    "\n",
    "En este cuaderno vamos a crear un [*bot* de twitter](http://en.wikipedia.org/wiki/Twitterbot) (un programa que interactúa de manera semi-automática con twitter) que muestre ciertas capacidades lingüísticas.\n",
    "\n",
    "A continuación vamos a revisar algunos *snippets* o ejemplos de código mostrando las instrucciones mínimas que puede incluir un *bot* para que sea capaz de publicar mensajes. También trataré de mostrar cómo acceder a otras funcionalidades, algo más complejas.\n",
    "\n",
    "\n",
    "## Cuenta de desarrollador en twitter\n",
    "\n",
    "Para poder crear un *bot* y, en general, cualquier aplicación que interactúe con [twitter](http://www.twitter.com), necesitas tener una cuenta con permisos de desarrollador. Sigue los pasos:\n",
    "\n",
    "1. Lo primero que tienes que hacer, si no tienes cuenta en twitter, es [registrarte](https://twitter.com/signup). Si ya tienes cuenta en esta red, te recomiendo que la uses y no te crees otra nueva. El proceso de alta de twitter requiere la validación de un número de teléfono móvil único para cada cuenta. Así que, si no tienes más de un número de móvil y no quieres dolores de cabeza, utiliza tu cuenta de todos los días.\n",
    "\n",
    "2. Una vez registrado, haz login con tu cuenta y entra en [la página de gestión de *apps* de twitter](https://apps.twitter.com), donde podrás solicitar permisos para una *app* nueva. Pincha en [*Create New App*](https://apps.twitter.com/app/new).\n",
    "\n",
    "3. Rellena los campos requeridos del formulario que se muestra: \n",
    "\n",
    "    - ***Name***: tiene que ser un nombre único, así que sé original. Es probable que tengas que probar varios nombres hasta dar con uno que esté libre. Si no quieres fallar, pon algo como *progplnbot-tunombre*.\n",
    "        \n",
    "    - ***Description***: describe brevemente el propósito de tu bot.\n",
    "        \n",
    "    - ***Website***: por el momento, cualquier URL servirá. Si no tienes web propia y no sabes qué poner, introduce la URL de la web de Lingüística: http://www.ucm.es/linguistica\n",
    "        \n",
    "4. Lee (*cough, cough*) el texto del acuerdo, selecciona *Yes, I agree* y pincha el botón de la parte inferior de la página que dice *Create your Twitter application*.\n",
    "\n",
    "5. Si todo ha ido bien (si has elegido para tu *app* un nombre que estuviera libre, básicamente), se te mostrará una página de configuración. Tendrás que cambiar algunos parámetros. \n",
    "\n",
    "    - En el apartado *Application Settings*, en *Access level*, asegúrate de que tienes seleccionados permisos de lectura y escritura: *Read and Write*. Si no es así, pincha en *modify app permissions* y otorga permisos para leer y escribir. Una vez cambiado, pincha en *Update Settings*.\n",
    "        \n",
    "    - En la pestaña *Keys and Access Tokens*, pincha en el botón *Create my access token* para crear los tokens de acceso. Estos nombres probablemente no te digan nada, pero desde esta página tienes acceso a las cuatro credenciales que tu *bot* necesita para autenticarse y publicar mensajes. Toma nota de ellas, las necesitarás más adelante:\n",
    "    - *Consumer key*\n",
    "    - *Consumer secret*\n",
    "    - *Access token*\n",
    "    - *Access token secret*\n",
    "    \n",
    "Ya tienes todo lo que necesitas para crear tu *bot*."
   ]
  },
  {
   "cell_type": "markdown",
   "metadata": {},
   "source": [
    "## Ejemplo mínimo de *bot* con Python y `tweepy`.\n",
    "\n",
    "El código que aparece a continuación contiene las líneas mínimas para crear un cliente de twitter y publicar un mensaje en twitter. \n",
    "\n",
    "Consejo: No lo ejecutes más de una vez o correrás el riesgo de que te baneen la cuenta."
   ]
  },
  {
   "cell_type": "code",
   "execution_count": null,
   "metadata": {
    "collapsed": false
   },
   "outputs": [],
   "source": [
    "import tweepy\n",
    "# añade las credenciales de tu aplicación de twitter como cadenas de texto\n",
    "CONSUMER_KEY = 'CAMBIA ESTO'\n",
    "CONSUMER_SECRET = 'CAMBIA ESTO' \n",
    "ACCESS_TOKEN = 'CAMBIA ESTO'\n",
    "ACCESS_TOKEN_SECRET = 'CAMBIA ESTO'\n",
    "\n",
    "\n",
    "# autentica las credenciales\n",
    "auth = tweepy.OAuthHandler(CONSUMER_KEY, CONSUMER_SECRET)\n",
    "auth.set_access_token(ACCESS_TOKEN, ACCESS_TOKEN_SECRET)\n",
    "\n",
    "# crea un cliente de twiter\n",
    "t = tweepy.API(auth)\n",
    "\n",
    "# publica un saludo\n",
    "t.update_status('¡Hola! Soy un bot, no me hagas caso.')"
   ]
  },
  {
   "cell_type": "markdown",
   "metadata": {},
   "source": [
    "Hay que ser cuidadoso a la hora de enviar mensaje automatizados. Si queremos publicar más de un mensaje y queremos controlar el tiempo que transcurre entre un mensaje y otro, podemos utilizar la librería `time` de la siguiente manera:"
   ]
  },
  {
   "cell_type": "code",
   "execution_count": null,
   "metadata": {
    "collapsed": false
   },
   "outputs": [],
   "source": [
    "# añade esta librería al principio de tu código\n",
    "import time\n",
    "\n",
    "# algunas citas memorables de Yogi Berra (https://es.wikipedia.org/wiki/Yogi_Berra)\n",
    "citas = '''The future ain't what it used to be.|\n",
    "You can observe a lot by watching.|\n",
    "It ain't over till it's over.|\n",
    "It ain't the heat, it's the humility.|\n",
    "We made too many wrong mistakes.|\n",
    "I never said half the things I said.'''.split('|\\n')\n",
    "\n",
    "# iteramos sobre las citas y las publicamos de una en una \n",
    "for cita in citas:\n",
    "    t.update_status(cita + ' #yogiberra')\n",
    "    time.sleep(30) # envía el tweet cada 30 segundos"
   ]
  },
  {
   "cell_type": "markdown",
   "metadata": {},
   "source": [
    "Otra funcionalidad típica que tienen los *bots* de twitter es enviar automáticamente mensajes a otros usuarios. Si queremos que nuestra aplicación busque entre todos los mensajes y responda al autor, podemos hacer lo siguiente:"
   ]
  },
  {
   "cell_type": "code",
   "execution_count": null,
   "metadata": {
    "collapsed": false
   },
   "outputs": [],
   "source": [
    "# buscamos mensajes que contengan la expresión \"gaticos y monetes\"\n",
    "busqueda = t.search(q='gaticos y monetes')\n",
    "\n",
    "# itero sobre estos mensajes\n",
    "for mensaje in busqueda:\n",
    "    # capturo el nombre de usuario\n",
    "    usuario = mensaje.user.screen_name\n",
    "    # compongo el mensaje de respuesta\n",
    "    miRespuesta = '@%s ¡monetes!' % (usuario)\n",
    "    # envío la respuesta\n",
    "    mensaje = t.update_status(miRespuesta, mensaje.id)"
   ]
  },
  {
   "cell_type": "markdown",
   "metadata": {},
   "source": [
    "Si queremos responder a menciones, es decir, si queremos que el *bot* responda automáticamente a mensajes dirigidos a él, podemos utilizar el siguiente código:"
   ]
  },
  {
   "cell_type": "code",
   "execution_count": null,
   "metadata": {
    "collapsed": false
   },
   "outputs": [],
   "source": [
    "# recupero las últimsa 5 menciones de mi usuario\n",
    "menciones = t.mentions_timeline(count=5)\n",
    "\n",
    "# ten en cuenta que:\n",
    "# si tu cuenta de twitter es nueva y no tiene menciones, no funcionará\n",
    "# si estás usando tu cuenta de todos los días, como hago yo, \n",
    "# enviarás mensajes a esas personas (o robotitos)\n",
    "\n",
    "for mencion in menciones:\n",
    "    # capturo el nombre de usuario que me manda el mensaje\n",
    "    usuario = mencion.user.screen_name\n",
    "    # compongo el mensaje de respuesta\n",
    "    miRespuesta = '¡Hola, @%s! Soy un robotito. Este es un mensaje automático, no le hagas caso' % (usuario)\n",
    "    # envío la respuesta\n",
    "    mensaje = t.update_status(miRespuesta, mention.id)"
   ]
  },
  {
   "cell_type": "markdown",
   "metadata": {},
   "source": [
    "Si queremos retuitear mensajes, podemos ejecutar lo siguiente: \n"
   ]
  },
  {
   "cell_type": "code",
   "execution_count": null,
   "metadata": {
    "collapsed": false
   },
   "outputs": [],
   "source": [
    "# buscamos mensajes que contengan la expresión \"viejóvenes\"\n",
    "busqueda = t.search(q='viejóvenes')\n",
    "\n",
    "# para que no se descontrole, solo quiero retwitear los tres últimos mensajes\n",
    "if len(busqueda) >= 3:\n",
    "    for mensaje in busqueda[:3]:\n",
    "        # para retwitear un mensaje, ejecuto el método retweet \n",
    "        # indicando el identificador único del mensaje en cuestión\n",
    "        t.retweet(mensaje.id)\n",
    "else:\n",
    "    for mensaje in busqueda:\n",
    "        t.retweet(mensaje.id)"
   ]
  },
  {
   "cell_type": "markdown",
   "metadata": {},
   "source": [
    "Hasta aquí las funcionalidades básicas. Si quieres explorar más sobre las posibilidades de esta librería de twitter, revisa la documentación de [tweepy](https://tweepy.readthedocs.org/en/v3.5.0/)."
   ]
  }
 ],
 "metadata": {
  "kernelspec": {
   "display_name": "Python 3",
   "language": "python",
   "name": "python3"
  },
  "language_info": {
   "codemirror_mode": {
    "name": "ipython",
    "version": 3
   },
   "file_extension": ".py",
   "mimetype": "text/x-python",
   "name": "python",
   "nbconvert_exporter": "python",
   "pygments_lexer": "ipython3",
   "version": "3.4.3+"
  }
 },
 "nbformat": 4,
 "nbformat_minor": 0
}
