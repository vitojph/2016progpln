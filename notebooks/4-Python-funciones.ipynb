{
 "cells": [
  {
   "cell_type": "markdown",
   "metadata": {},
   "source": [
    "# Funciones\n",
    "\n",
    "Una **función** es una sección de código **reutilizable**, escrita para realizar una tarea específica en un programa. \n",
    "\n",
    "¿Por qué son útiles las funciones? Fíjate en los siguientes ejemplos."
   ]
  },
  {
   "cell_type": "code",
   "execution_count": 1,
   "metadata": {
    "collapsed": false
   },
   "outputs": [
    {
     "name": "stdout",
     "output_type": "stream",
     "text": [
      "36\n"
     ]
    }
   ],
   "source": [
    "# necesito calcular el cuadrado de un número\n",
    "# defino una variable asignándole el valor 6\n",
    "n = 6\n",
    "\n",
    "# calculo el cuadrado y lo imprimo por pantalla\n",
    "cuadrado = n**2\n",
    "print(cuadrado)"
   ]
  },
  {
   "cell_type": "code",
   "execution_count": 2,
   "metadata": {
    "collapsed": false
   },
   "outputs": [
    {
     "name": "stdout",
     "output_type": "stream",
     "text": [
      "64\n"
     ]
    }
   ],
   "source": [
    "# ahora me piden que calcule otro cuadrado, en este caso de 8\n",
    "# repito el proceso\n",
    "n = 8\n",
    "cuadrado = n**2\n",
    "print(cuadrado)"
   ]
  },
  {
   "cell_type": "markdown",
   "metadata": {},
   "source": [
    "Imagina que por tercera vez, me piden que calcule un cuadrado. ¿Repito el proceso de manera indefinida? \n",
    "\n",
    "El ejemplo es un poco extremo, pero sirve para ilustrar que, a veces, nuestros programas repiten siempre el mismo proceso (en este caso, un cálculo) variando los datos con los que trabajamos. En este caso, es mucho más eficaz reutilizar el código y adaptarlo ligeramente para generalizar el cálculo de cuadrados a cualquier número.\n",
    "\n",
    "¿Me sigues? ¿Sí? Pues vamos a ver cómo hacerlo definiendo una función.\n",
    "\n",
    "\n",
    "La sintaxis de una función forma un bloque de código de la siguiente manera:\n",
    "\n",
    "    def FUNCION(ENTRADA):\n",
    "        \"\"\"comentario explicando qué hace esta función\"\"\"\n",
    "        SALIDA = INSTRUCCIONES\n",
    "        return SALIDA\n",
    "\n",
    "\n",
    "Las funciones se definen usando la instrucción `def` y están compuestas de tres partes:\n",
    "\n",
    "- El encabezado, que incluye la instrucción `def`, el nombre de la función, cualquier argumento que contenga la función especificado entre paréntesis `()`, y el signo de dos puntos `:`.\n",
    "- Una cadena de documentación con tres pares de comillas, que explica de forma breve qué hace la función.\n",
    "- El cuerpo, que es el bloque de código que describe los procedimientos que la función lleva a cabo. El cuerpo es un bloque de código y por eso aparece indentado (de igual forma que las sentencias `if`, `elif`, y `else`)\n",
    "- Una función siempre devuelve algo: una estructura de datos, un mensaje, etc. Por lo tanto, la última línea de cualquier función es una instrucción `return`.\n",
    "\n",
    "Piensa en la función como una especie de artefacto o caja negra que toma una entrada, la manipula/procesa/convierte/modifica y devuelve un resultado."
   ]
  },
  {
   "cell_type": "code",
   "execution_count": 3,
   "metadata": {
    "collapsed": false
   },
   "outputs": [],
   "source": [
    "# creamos una función llamada cuadrado que toma como entrada\n",
    "# un número cualquiera y devuelve el cuadrado de dicho número\n",
    "\n",
    "def cuadrado(numero):\n",
    "    \"\"\"devuelve el cuadrado del número especificado como entrada\"\"\"\n",
    "    micuadrado = numero**2\n",
    "    return micuadrado"
   ]
  },
  {
   "cell_type": "code",
   "execution_count": 4,
   "metadata": {
    "collapsed": false
   },
   "outputs": [
    {
     "ename": "NameError",
     "evalue": "name 'micuadrado' is not defined",
     "output_type": "error",
     "traceback": [
      "\u001b[1;31m---------------------------------------------------------------------------\u001b[0m",
      "\u001b[1;31mNameError\u001b[0m                                 Traceback (most recent call last)",
      "\u001b[1;32m<ipython-input-4-6741d8f167e8>\u001b[0m in \u001b[0;36m<module>\u001b[1;34m()\u001b[0m\n\u001b[0;32m      2\u001b[0m \u001b[1;31m# si tratas de utilizarlas fuera, es como si nunca las hubieras creado\u001b[0m\u001b[1;33m\u001b[0m\u001b[1;33m\u001b[0m\u001b[0m\n\u001b[0;32m      3\u001b[0m \u001b[1;31m# esta celda, da error\u001b[0m\u001b[1;33m\u001b[0m\u001b[1;33m\u001b[0m\u001b[0m\n\u001b[1;32m----> 4\u001b[1;33m \u001b[0mprint\u001b[0m\u001b[1;33m(\u001b[0m\u001b[0mmicuadrado\u001b[0m\u001b[1;33m)\u001b[0m\u001b[1;33m\u001b[0m\u001b[0m\n\u001b[0m",
      "\u001b[1;31mNameError\u001b[0m: name 'micuadrado' is not defined"
     ]
    }
   ],
   "source": [
    "# las variables definidas dentro de funciones limitan su alcance al interior de la funcion\n",
    "# si tratas de utilizarlas fuera, es como si nunca las hubieras creado\n",
    "# esta celda, da error\n",
    "print(micuadrado)"
   ]
  },
  {
   "cell_type": "markdown",
   "metadata": {},
   "source": [
    "Una vez definida una función, podemos llamarla tantas veces sea necesario y ejecutarla en cualquier sitio de distintas maneras. Fíjate en los ejemplos:"
   ]
  },
  {
   "cell_type": "code",
   "execution_count": 5,
   "metadata": {
    "collapsed": false
   },
   "outputs": [
    {
     "name": "stdout",
     "output_type": "stream",
     "text": [
      "36\n",
      "81\n",
      "10\n",
      "55648.810000000005\n"
     ]
    }
   ],
   "source": [
    "print(cuadrado(6))\n",
    "\n",
    "print(cuadrado(8+1))\n",
    "\n",
    "print(cuadrado(3) + 1)\n",
    "\n",
    "otroNumero = cuadrado(235.9)\n",
    "\n",
    "print(otroNumero)"
   ]
  },
  {
   "cell_type": "code",
   "execution_count": 6,
   "metadata": {
    "collapsed": false
   },
   "outputs": [
    {
     "ename": "TypeError",
     "evalue": "unsupported operand type(s) for ** or pow(): 'str' and 'int'",
     "output_type": "error",
     "traceback": [
      "\u001b[1;31m---------------------------------------------------------------------------\u001b[0m",
      "\u001b[1;31mTypeError\u001b[0m                                 Traceback (most recent call last)",
      "\u001b[1;32m<ipython-input-6-10e4f69ac453>\u001b[0m in \u001b[0;36m<module>\u001b[1;34m()\u001b[0m\n\u001b[0;32m      1\u001b[0m \u001b[1;31m# en esta celda estoy ejecutando una función indicando un argumento de tipo cadena\u001b[0m\u001b[1;33m\u001b[0m\u001b[1;33m\u001b[0m\u001b[0m\n\u001b[0;32m      2\u001b[0m \u001b[1;31m# y falla porque la función reliza operaciones matemáticas que solo funcionan con números\u001b[0m\u001b[1;33m\u001b[0m\u001b[1;33m\u001b[0m\u001b[0m\n\u001b[1;32m----> 3\u001b[1;33m \u001b[0mprint\u001b[0m\u001b[1;33m(\u001b[0m\u001b[0mcuadrado\u001b[0m\u001b[1;33m(\u001b[0m\u001b[1;34m\"a\"\u001b[0m\u001b[1;33m)\u001b[0m\u001b[1;33m)\u001b[0m\u001b[1;33m\u001b[0m\u001b[0m\n\u001b[0m",
      "\u001b[1;32m<ipython-input-3-ccedda252d2c>\u001b[0m in \u001b[0;36mcuadrado\u001b[1;34m(numero)\u001b[0m\n\u001b[0;32m      4\u001b[0m \u001b[1;32mdef\u001b[0m \u001b[0mcuadrado\u001b[0m\u001b[1;33m(\u001b[0m\u001b[0mnumero\u001b[0m\u001b[1;33m)\u001b[0m\u001b[1;33m:\u001b[0m\u001b[1;33m\u001b[0m\u001b[0m\n\u001b[0;32m      5\u001b[0m     \u001b[1;34m\"\"\"devuelve el cuadrado del número especificado como entrada\"\"\"\u001b[0m\u001b[1;33m\u001b[0m\u001b[0m\n\u001b[1;32m----> 6\u001b[1;33m     \u001b[0mmicuadrado\u001b[0m \u001b[1;33m=\u001b[0m \u001b[0mnumero\u001b[0m\u001b[1;33m**\u001b[0m\u001b[1;36m2\u001b[0m\u001b[1;33m\u001b[0m\u001b[0m\n\u001b[0m\u001b[0;32m      7\u001b[0m     \u001b[1;32mreturn\u001b[0m \u001b[0mmicuadrado\u001b[0m\u001b[1;33m\u001b[0m\u001b[0m\n",
      "\u001b[1;31mTypeError\u001b[0m: unsupported operand type(s) for ** or pow(): 'str' and 'int'"
     ]
    }
   ],
   "source": [
    "# en esta celda estoy ejecutando una función indicando un argumento de tipo cadena\n",
    "# y falla porque la función reliza operaciones matemáticas que solo funcionan con números\n",
    "print(cuadrado(\"a\"))"
   ]
  },
  {
   "cell_type": "markdown",
   "metadata": {},
   "source": [
    "Fíjate por qué es importante añadir una cadena de texto entre comillas triples en nuestras funciones: sirve como documentación (*docstring*) de ayuda cuando utilizamos la función `help()` o accedemos a la ayuda de iPython."
   ]
  },
  {
   "cell_type": "code",
   "execution_count": 7,
   "metadata": {
    "collapsed": false
   },
   "outputs": [],
   "source": [
    "cuadrado??"
   ]
  },
  {
   "cell_type": "markdown",
   "metadata": {},
   "source": [
    "En realidad, ya conoces unas cuantas funciones que existen de manera predefinida en Python. ¿Recuerdas las funciones `len()` y `type()`, por ejemplo, para calcular la longitud y el tipo de las estructuras de datos? Ahora lo único que estamos haciendo es definiendo nuestras propias funciones.\n",
    "\n",
    "Siguiendo con las operaciones, imagínate ahora que nos piden calcular cubos de distintos números, podríamos definir una función llamada `cubo`:"
   ]
  },
  {
   "cell_type": "code",
   "execution_count": 8,
   "metadata": {
    "collapsed": false
   },
   "outputs": [],
   "source": [
    "def cubo(numero):\n",
    "    \"\"\"devuelve el cubo del número especificado como entrada\"\"\"\n",
    "    return numero**3"
   ]
  },
  {
   "cell_type": "code",
   "execution_count": 9,
   "metadata": {
    "collapsed": false
   },
   "outputs": [
    {
     "name": "stdout",
     "output_type": "stream",
     "text": [
      "8\n",
      "1000\n"
     ]
    }
   ],
   "source": [
    "print(cubo(2))\n",
    "\n",
    "# un millar es 10^3\n",
    "millar = cubo(10)\n",
    "print(millar)"
   ]
  },
  {
   "cell_type": "markdown",
   "metadata": {},
   "source": [
    "Podemos generalizar más y definir una función para calcular potencias, de manera que tomemos como entrada dos números, la base y el exponente."
   ]
  },
  {
   "cell_type": "code",
   "execution_count": 10,
   "metadata": {
    "collapsed": false
   },
   "outputs": [],
   "source": [
    "def potencia(base, exponente):\n",
    "    \"\"\"calcula potencias\"\"\"\n",
    "    return base**exponente"
   ]
  },
  {
   "cell_type": "code",
   "execution_count": 11,
   "metadata": {
    "collapsed": false
   },
   "outputs": [
    {
     "name": "stdout",
     "output_type": "stream",
     "text": [
      "100\n",
      "33554432\n",
      "1000000000000\n"
     ]
    }
   ],
   "source": [
    "# calcula 10^2\n",
    "print(potencia(10, 2))\n",
    "\n",
    "# calcula 32^5\n",
    "print(potencia(32, 5))\n",
    "\n",
    "# un billón es un 10 seguido de 12 ceros\n",
    "billon = potencia(10, 12)\n",
    "print(billon)"
   ]
  },
  {
   "cell_type": "markdown",
   "metadata": {},
   "source": [
    "Antes hemos mencionado que una función debía de devolver simpre algún valor, y por eso todas las definiciones de funciones terminan con una instrucción `return`. Bien, esto no era del todo cierto. Fíjate en este ejemplo.\n"
   ]
  },
  {
   "cell_type": "code",
   "execution_count": 12,
   "metadata": {
    "collapsed": false
   },
   "outputs": [],
   "source": [
    "def saludo():\n",
    "    \"\"\"Imprime un saludo por pantalla\"\"\"\n",
    "    print(\"¡Hola, amigo!\")"
   ]
  },
  {
   "cell_type": "markdown",
   "metadata": {},
   "source": [
    "En esta celda utilizo la función `range` que no habíamos visto antes para indicar el número exacto de veces que quiero que se ejecute un bucle `for`.\n",
    "\n",
    "Fíjate en cómo la función `range`, cuando se ejecuta con un único argumento *N*, devuelve una lista con *N* números sobre la que podemos iterar. Bueno, en realidad, esto no es correcto. La realidad es que devuelve una estructura de datos especial llamada iterador, con los números enteros entre el *0* y *N-1*). Pero para nuestros intereses, es mejor la primera explicación."
   ]
  },
  {
   "cell_type": "code",
   "execution_count": 13,
   "metadata": {
    "collapsed": false
   },
   "outputs": [
    {
     "name": "stdout",
     "output_type": "stream",
     "text": [
      "¡Hola, amigo!\n",
      "¡Hola, amigo!\n",
      "¡Hola, amigo!\n",
      "Voy por el número 0\n",
      "Voy por el número 1\n",
      "Voy por el número 2\n",
      "Voy por el número 3\n",
      "Voy por el número 4\n",
      "Voy por el número 5\n",
      "Voy por el número 6\n",
      "Voy por el número 7\n",
      "Voy por el número 8\n",
      "Voy por el número 9\n"
     ]
    }
   ],
   "source": [
    "for i in range(3):\n",
    "    saludo()\n",
    "    \n",
    "# fíjate cómo el valor de i se actualiza en cada iteración\n",
    "for i in range(10):\n",
    "    print(\"Voy por el número\", i)"
   ]
  },
  {
   "cell_type": "markdown",
   "metadata": {},
   "source": [
    "`range` se puede ejecutar también con dos y tres argumenos numéricos. Cuando especificamos dos argumentos, podemos definir el primer y el último elemento de la lista resultante. Cuando especificamos tres, el último indica el salto entre cada par de elemenos. Fíjate en estos ejemplos."
   ]
  },
  {
   "cell_type": "code",
   "execution_count": 14,
   "metadata": {
    "collapsed": false
   },
   "outputs": [
    {
     "name": "stdout",
     "output_type": "stream",
     "text": [
      "10\n",
      "11\n",
      "12\n",
      "13\n",
      "14\n",
      "15\n",
      "16\n",
      "17\n",
      "18\n",
      "19\n",
      "-------------------\n",
      "10\n",
      "13\n",
      "16\n",
      "19\n"
     ]
    }
   ],
   "source": [
    "# range devuelve los números entre el 10 al 19\n",
    "for i in range(10, 20):\n",
    "    print(i)\n",
    "    \n",
    "print(\"-------------------\")\n",
    "\n",
    "# range devuelve los números del 10 al 19, avanzando de 3 en 3\n",
    "for i in range(10, 20, 3):\n",
    "    print(i)"
   ]
  },
  {
   "cell_type": "code",
   "execution_count": 15,
   "metadata": {
    "collapsed": true
   },
   "outputs": [],
   "source": [
    "range??"
   ]
  },
  {
   "cell_type": "markdown",
   "metadata": {},
   "source": [
    "Obviamente, podemos definir funciones que hagan otras cosas diferentes a cálculo de potencias. Pensemos en un ejemplo de tratamiento de texto que nos puede resultar más útil.\n",
    "\n"
   ]
  },
  {
   "cell_type": "code",
   "execution_count": 16,
   "metadata": {
    "collapsed": false
   },
   "outputs": [],
   "source": [
    "def pluralize(word):\n",
    "    \"\"\"Convierte a plural cualquier palabra singular en inglés\"\"\"\n",
    "    return word + \"s\""
   ]
  },
  {
   "cell_type": "markdown",
   "metadata": {},
   "source": [
    "¿Te atreves a modificar el código para:\n",
    "\n",
    "1. que funcionen correctamente las palabras acabadas en *-s*?\n",
    "2. manejar plurales irregulares?"
   ]
  },
  {
   "cell_type": "code",
   "execution_count": 17,
   "metadata": {
    "collapsed": false
   },
   "outputs": [
    {
     "name": "stdout",
     "output_type": "stream",
     "text": [
      "cats\n",
      "questions\n",
      "berrys\n",
      "businesss\n",
      "boxs\n",
      "flushs\n",
      "coachs\n",
      "foots\n",
      "womans\n",
      "childs\n"
     ]
    }
   ],
   "source": [
    "print(pluralize(\"cat\"))\n",
    "print(pluralize(\"question\"))\n",
    "\n",
    "print(pluralize(\"berry\"))\n",
    "print(pluralize(\"business\"))\n",
    "print(pluralize(\"box\"))\n",
    "print(pluralize(\"flush\"))\n",
    "print(pluralize(\"coach\"))\n",
    "\n",
    "# plurales irregulares\n",
    "print(pluralize(\"foot\"))\n",
    "print(pluralize(\"woman\"))\n",
    "print(pluralize(\"child\"))"
   ]
  },
  {
   "cell_type": "code",
   "execution_count": 18,
   "metadata": {
    "collapsed": false
   },
   "outputs": [
    {
     "name": "stdout",
     "output_type": "stream",
     "text": [
      "True\n",
      "False\n"
     ]
    }
   ],
   "source": [
    "def terminaEnVocal(palabra):\n",
    "    \"\"\"comprueba si una palabra termina en vocal\"\"\"\n",
    "    vocales = \"aeiou\"\n",
    "    if palabra[-1] in vocales:\n",
    "        return True\n",
    "    else:\n",
    "        return False\n",
    "    \n",
    "    \n",
    "print(terminaEnVocal(\"cava\"))\n",
    "print(terminaEnVocal(\"jamón\"))    "
   ]
  },
  {
   "cell_type": "code",
   "execution_count": 19,
   "metadata": {
    "collapsed": false
   },
   "outputs": [
    {
     "name": "stdout",
     "output_type": "stream",
     "text": [
      "cavA\n",
      "jamóN\n"
     ]
    }
   ],
   "source": [
    "def convierteAMayusculaLaUltimaLetra(palabra):\n",
    "    \"\"\"devuelve la palabra transformando la última letra a mayúscula\"\"\"\n",
    "    return palabra[:-1] + palabra[-1].upper() \n",
    "    \n",
    "print(convierteAMayusculaLaUltimaLetra(\"cava\"))\n",
    "print(convierteAMayusculaLaUltimaLetra(\"jamón\"))    "
   ]
  },
  {
   "cell_type": "code",
   "execution_count": 20,
   "metadata": {
    "collapsed": false
   },
   "outputs": [
    {
     "name": "stdout",
     "output_type": "stream",
     "text": [
      "berries\n"
     ]
    }
   ],
   "source": [
    "print(\"berry\"[:-1] + \"ies\")"
   ]
  },
  {
   "cell_type": "code",
   "execution_count": 21,
   "metadata": {
    "collapsed": false
   },
   "outputs": [],
   "source": [
    "def pluralize(word):    \n",
    "    \"\"\"Convierte a plural cualquier palabra singular en inglés\"\"\"\n",
    "    if word.endswith(\"ss\") or word.endswith(\"x\"):\n",
    "        return word + \"es\"\n",
    "    else:\n",
    "        return word + \"s\""
   ]
  }
 ],
 "metadata": {
  "kernelspec": {
   "display_name": "Python 3",
   "language": "python",
   "name": "python3"
  },
  "language_info": {
   "codemirror_mode": {
    "name": "ipython",
    "version": 3
   },
   "file_extension": ".py",
   "mimetype": "text/x-python",
   "name": "python",
   "nbconvert_exporter": "python",
   "pygments_lexer": "ipython3",
   "version": "3.4.3+"
  }
 },
 "nbformat": 4,
 "nbformat_minor": 0
}
